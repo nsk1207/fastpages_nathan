{
 "cells": [
  {
   "cell_type": "markdown",
   "metadata": {},
   "source": [
    "# Java\n",
    "- title: Java Script\n",
    "- toc: true\n",
    "- categories: [week5,jupyter]\n",
    "- comments: true "
   ]
  },
  {
   "cell_type": "markdown",
   "metadata": {},
   "source": [
    "# Console.log output"
   ]
  },
  {
   "cell_type": "code",
   "execution_count": 1,
   "metadata": {},
   "outputs": [
    {
     "name": "stdout",
     "output_type": "stream",
     "text": [
      "Hello, World!\n"
     ]
    }
   ],
   "source": [
    "console.log(\"Hello, World!\");"
   ]
  },
  {
   "cell_type": "markdown",
   "metadata": {},
   "source": [
    "# Console.log output showing use of variable "
   ]
  },
  {
   "cell_type": "code",
   "execution_count": 5,
   "metadata": {},
   "outputs": [
    {
     "name": "stdout",
     "output_type": "stream",
     "text": [
      "Hello, World!\n"
     ]
    }
   ],
   "source": [
    "var msg = \"Hello, World!\";\n",
    "console.log(msg);"
   ]
  },
  {
   "cell_type": "markdown",
   "metadata": {},
   "source": [
    "# Console.log output with function use"
   ]
  },
  {
   "cell_type": "code",
   "execution_count": 6,
   "metadata": {},
   "outputs": [
    {
     "name": "stdout",
     "output_type": "stream",
     "text": [
      "Hello, World!\n"
     ]
    }
   ],
   "source": [
    "function logIt(output) {\n",
    "    console.log(output);\n",
    "}\n",
    "logIt(msg);"
   ]
  },
  {
   "cell_type": "markdown",
   "metadata": {},
   "source": [
    "# Showing reuse of a function"
   ]
  },
  {
   "cell_type": "code",
   "execution_count": 9,
   "metadata": {},
   "outputs": [
    {
     "name": "stdout",
     "output_type": "stream",
     "text": [
      "Reuse\n",
      "Hello Everybody\n"
     ]
    }
   ],
   "source": [
    "console.log(\"Reuse\")\n",
    "logIt(\"Hello, World!\");"
   ]
  },
  {
   "cell_type": "markdown",
   "metadata": {},
   "source": [
    "# Dynamic or loosely typed language (string,number)"
   ]
  },
  {
   "cell_type": "code",
   "execution_count": 10,
   "metadata": {},
   "outputs": [
    {
     "name": "stdout",
     "output_type": "stream",
     "text": [
      "Dynamic language\n",
      "string ; Hello, World!\n",
      "number ; 2022\n",
      "object ; [ 1, 2, 3 ]\n"
     ]
    }
   ],
   "source": [
    "function logItType(output) {\n",
    "    console.log(typeof output, \";\", output);\n",
    "}\n",
    "console.log(\"Dynamic language\")\n",
    "logItType(\"Hello, World!\");\n",
    "logItType(2022); \n",
    "logItType([1, 2, 3]);"
   ]
  },
  {
   "cell_type": "markdown",
   "metadata": {},
   "source": [
    "# Building a person function + JSON"
   ]
  },
  {
   "cell_type": "code",
   "execution_count": 44,
   "metadata": {},
   "outputs": [
    {
     "name": "stdout",
     "output_type": "stream",
     "text": [
      "object ; Person { name: 'Mr Mortenson', ghID: 'jm1021', classOf: 1977, role: '' }\n",
      "string ; {\"name\":\"Mr Mortenson\",\"ghID\":\"jm1021\",\"classOf\":1977,\"role\":\"\"}\n",
      "object ; Person {\n",
      "  name: 'Mr Mortenson',\n",
      "  ghID: 'jm1021',\n",
      "  classOf: 1977,\n",
      "  role: 'Teacher' }\n",
      "string ; {\"name\":\"Mr Mortenson\",\"ghID\":\"jm1021\",\"classOf\":1977,\"role\":\"Teacher\"}\n"
     ]
    }
   ],
   "source": [
    "function Person(name, ghID, classOf) {\n",
    "    this.name = name;\n",
    "    this.ghID = ghID;\n",
    "    this.classOf = classOf;\n",
    "    this.role = \"\";\n",
    "}\n",
    "\n",
    "Person.prototype.setRole = function(role) {\n",
    "    this.role = role;\n",
    "}\n",
    "\n",
    "Person.prototype.toJSON = function() {\n",
    "    const obj = {name: this.name, ghID: this.ghID, classOf: this.classOf, role: this.role};\n",
    "    const json = JSON.stringify(obj);\n",
    "    return json;\n",
    "}\n",
    "\n",
    "var teacher = new Person(\"Mr Mortenson\", \"jm1021\", 1977);\n",
    "logItType(teacher);  \n",
    "logItType(teacher.toJSON());  \n",
    "\n",
    "teacher.setRole(\"Teacher\");   \n",
    "logItType(teacher); \n",
    "logItType(teacher.toJSON());"
   ]
  },
  {
   "cell_type": "markdown",
   "metadata": {},
   "source": [
    "# Array/list of people + JSON"
   ]
  },
  {
   "cell_type": "code",
   "execution_count": 48,
   "metadata": {},
   "outputs": [
    {
     "name": "stdout",
     "output_type": "stream",
     "text": [
      "object ; [ Person {\n",
      "    name: 'Mr Mortenson',\n",
      "    ghID: 'jm1021',\n",
      "    classOf: 1977,\n",
      "    role: 'Teacher' },\n",
      "  Person {\n",
      "    name: 'Nathan',\n",
      "    ghID: 'nsk1207',\n",
      "    classOf: 2024,\n",
      "    role: 'Student' },\n",
      "  Person { name: 'Max', ghID: 'unkwown', classOf: 2024, role: 'Student' },\n",
      "  Person { name: 'Sri', ghID: 'unkwown', classOf: 2024, role: 'Student' },\n",
      "  Person {\n",
      "    name: 'Alyssa',\n",
      "    ghID: 'unkwown',\n",
      "    classOf: 2024,\n",
      "    role: 'Student' } ]\n",
      "string ; Mr Mortenson\n",
      "string ; {\"name\":\"Mr Mortenson\",\"ghID\":\"jm1021\",\"classOf\":1977,\"role\":\"Teacher\"}\n",
      "object ; { name: 'Mr Mortenson',\n",
      "  ghID: 'jm1021',\n",
      "  classOf: 1977,\n",
      "  role: 'Teacher' }\n"
     ]
    }
   ],
   "source": [
    "var students = [ \n",
    "    new Person(\"Nathan\", \"nsk1207\", 2024),\n",
    "    new Person(\"Max\", \"unkwown\", 2024),\n",
    "    new Person(\"Sri\", \"unkwown\", 2024),\n",
    "    new Person(\"Alyssa\", \"unkwown\", 2024),\n",
    "];\n",
    "\n",
    "function Classroom(teacher, students){ \n",
    "    \n",
    "    teacher.setRole(\"Teacher\");\n",
    "    this.teacher = teacher;\n",
    "    this.classroom = [teacher];\n",
    "    \n",
    "    this.students = students;\n",
    "    this.students.forEach(student => { student.setRole(\"Student\"); this.classroom.push(student); });\n",
    "   \n",
    "    this.json = [];\n",
    "    this.classroom.forEach(person => this.json.push(person.toJSON()));\n",
    "}\n",
    "\n",
    "compsci = new Classroom(teacher, students);\n",
    "\n",
    "logItType(compsci.classroom);  \n",
    "logItType(compsci.classroom[0].name); \n",
    "logItType(compsci.json[0]);  \n",
    "logItType(JSON.parse(compsci.json[0]));  "
   ]
  },
  {
   "cell_type": "markdown",
   "metadata": {},
   "source": [
    "# Building A Table (Java using toHTML)"
   ]
  },
  {
   "cell_type": "code",
   "execution_count": 52,
   "metadata": {},
   "outputs": [
    {
     "data": {
      "text/html": [
       "<div style='display:inline-block;border: 2px solid black;box-shadow: 0.8em 0.4em 0.4em green;'><table><tr><th><mark>Name</mark></th><th><mark>GitHub ID</mark></th><th><mark>Class Of</mark></th><th><mark>Role</mark></th></tr><tr><td>Mr Mortenson</td><td>jm1021</td><td>1977</td><td>Teacher</td><tr><tr><td>Nathan</td><td>nsk1207</td><td>2024</td><td>Student</td><tr><tr><td>Max</td><td>unkwown</td><td>2024</td><td>Student</td><tr><tr><td>Sri</td><td>unkwown</td><td>2024</td><td>Student</td><tr><tr><td>Alyssa</td><td>unkwown</td><td>2024</td><td>Student</td><tr></table></div>"
      ]
     },
     "execution_count": 52,
     "metadata": {},
     "output_type": "execute_result"
    }
   ],
   "source": [
    "Classroom.prototype._toHtml = function() {\n",
    "    \n",
    "    var style = (\n",
    "      \"display:inline-block;\" +\n",
    "      \"border: 2px solid black;\" +\n",
    "      \"box-shadow: 0.8em 0.4em 0.4em green;\"\n",
    "    );\n",
    "    var body = \"\";\n",
    "    \n",
    "    body += \"<tr>\";\n",
    "    body += \"<th><mark>\" + \"Name\" + \"</mark></th>\";\n",
    "    body += \"<th><mark>\" + \"GitHub ID\" + \"</mark></th>\";\n",
    "    body += \"<th><mark>\" + \"Class Of\" + \"</mark></th>\";\n",
    "    body += \"<th><mark>\" + \"Role\" + \"</mark></th>\";\n",
    "    body += \"</tr>\";\n",
    "    \n",
    "    for (var row of compsci.classroom) {\n",
    "      \n",
    "      body += \"<tr>\";\n",
    "     \n",
    "      body += \"<td>\" + row.name + \"</td>\";\n",
    "      body += \"<td>\" + row.ghID + \"</td>\";\n",
    "      body += \"<td>\" + row.classOf + \"</td>\";\n",
    "      body += \"<td>\" + row.role + \"</td>\";\n",
    "     \n",
    "      body += \"<tr>\";\n",
    "    }\n",
    "\n",
    "    return (\n",
    "      \"<div style='\" + style + \"'>\" +\n",
    "        \"<table>\" +\n",
    "          body +\n",
    "        \"</table>\" +\n",
    "      \"</div>\"\n",
    "    );\n",
    "  \n",
    "  };\n",
    "  \n",
    "  // IJavaScript HTML processor receive parameter of defined HTML fragment\n",
    "  $$.html(compsci._toHtml());"
   ]
  },
  {
   "cell_type": "markdown",
   "metadata": {},
   "source": [
    "Even and Odd numbers"
   ]
  },
  {
   "cell_type": "code",
   "execution_count": 1,
   "metadata": {},
   "outputs": [
    {
     "name": "stdout",
     "output_type": "stream",
     "text": [
      "94 is an even number\n"
     ]
    }
   ],
   "source": [
    "function IsOdd(x){\n",
    "    if (x % 2 == 0) {\n",
    "        console.log(x + \" is an even number\");\n",
    "    }  else {\n",
    "       console.log(x + \" is an odd number\");\n",
    "    }\n",
    "    \n",
    "    }\n",
    "    IsOdd(94)"
   ]
  },
  {
   "cell_type": "markdown",
   "metadata": {},
   "source": [
    "Time teller "
   ]
  },
  {
   "cell_type": "code",
   "execution_count": 10,
   "metadata": {},
   "outputs": [
    {
     "name": "stdout",
     "output_type": "stream",
     "text": [
      "2022-9-26 21:10:33\n"
     ]
    }
   ],
   "source": [
    "var today = new Date();\n",
    "var date = today.getFullYear()+'-'+(today.getMonth()+1)+'-'+today.getDate();\n",
    "var time = today.getHours() + \":\" + today.getMinutes() + \":\" + today.getSeconds();\n",
    "var dateTime = date+' '+time;\n",
    " \n",
    "console.log(dateTime)"
   ]
  }
 ],
 "metadata": {
  "kernelspec": {
   "display_name": "JavaScript (Node.js)",
   "language": "javascript",
   "name": "javascript"
  },
  "language_info": {
   "file_extension": ".js",
   "mimetype": "application/javascript",
   "name": "javascript",
   "version": "6.11.2"
  },
  "orig_nbformat": 4,
  "vscode": {
   "interpreter": {
    "hash": "4b7a7f0204cc1475276a45e72644ddcc58fc6f5909a231fae554435734ab0645"
   }
  }
 },
 "nbformat": 4,
 "nbformat_minor": 2
}
