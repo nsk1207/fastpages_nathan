{
 "cells": [
  {
   "cell_type": "markdown",
   "metadata": {},
   "source": [
    "# Personal Java\n",
    "- title: Personal Java Script \n",
    "- toc: true\n",
    "- categories: [week5,jupyter]\n",
    "- comments: true "
   ]
  },
  {
   "cell_type": "markdown",
   "metadata": {},
   "source": [
    "# Even and Odd numbers"
   ]
  },
  {
   "cell_type": "code",
   "execution_count": 1,
   "metadata": {},
   "outputs": [
    {
     "name": "stdout",
     "output_type": "stream",
     "text": [
      "94 is an even number\n"
     ]
    }
   ],
   "source": [
    "function IsOdd(x){\n",
    "    if (x % 2 == 0) {\n",
    "        console.log(x + \" is an even number\");\n",
    "    }  else {\n",
    "       console.log(x + \" is an odd number\");\n",
    "    }\n",
    "    \n",
    "    }\n",
    "    IsOdd(94)"
   ]
  },
  {
   "cell_type": "markdown",
   "metadata": {},
   "source": [
    "# Time Teller"
   ]
  },
  {
   "cell_type": "code",
   "execution_count": 2,
   "metadata": {},
   "outputs": [
    {
     "name": "stdout",
     "output_type": "stream",
     "text": [
      "2022-9-26 21:30:4\n"
     ]
    }
   ],
   "source": [
    "var today = new Date();\n",
    "var date = today.getFullYear()+'-'+(today.getMonth()+1)+'-'+today.getDate();\n",
    "var time = today.getHours() + \":\" + today.getMinutes() + \":\" + today.getSeconds();\n",
    "var dateTime = date+' '+time;\n",
    " \n",
    "console.log(dateTime)"
   ]
  }
 ],
 "metadata": {
  "kernelspec": {
   "display_name": "JavaScript (Node.js)",
   "language": "javascript",
   "name": "javascript"
  },
  "language_info": {
   "file_extension": ".js",
   "mimetype": "application/javascript",
   "name": "javascript",
   "version": "6.11.2"
  },
  "orig_nbformat": 4,
  "vscode": {
   "interpreter": {
    "hash": "4b7a7f0204cc1475276a45e72644ddcc58fc6f5909a231fae554435734ab0645"
   }
  }
 },
 "nbformat": 4,
 "nbformat_minor": 2
}
