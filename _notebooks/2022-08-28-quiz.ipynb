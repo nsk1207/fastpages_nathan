{
 "cells": [
  {
   "cell_type": "markdown",
   "metadata": {},
   "source": [
    "# Vocab Quiz\n",
    "- title: APCSP - Vocab Quiz Code\n",
    "- toc: true\n",
    "- categories: [week1,jupyter]\n",
    "- comments: true"
   ]
  },
  {
   "cell_type": "markdown",
   "metadata": {},
   "source": [
    "# Print question and return user input \n"
   ]
  },
  {
   "cell_type": "code",
   "execution_count": 18,
   "metadata": {},
   "outputs": [],
   "source": [
    "import getpass, sys\n",
    "\n",
    "# Print question and return user input\n",
    "def question_with_response(num, prompt):\n",
    "    if num > 0: \n",
    "        print(\"Question \" + str(num) + \": \" + prompt)\n",
    "    else:\n",
    "        print(\"Question: \" + prompt)\n",
    "    msg = input()\n",
    "    return msg"
   ]
  },
  {
   "cell_type": "markdown",
   "metadata": {},
   "source": [
    "# Number of questions and correct answer counter"
   ]
  },
  {
   "cell_type": "code",
   "execution_count": 19,
   "metadata": {},
   "outputs": [],
   "source": [
    "# Number of questions\n",
    "questions = 7 \n",
    "\n",
    "# Correct answer counter\n",
    "correct = 0"
   ]
  },
  {
   "cell_type": "markdown",
   "metadata": {},
   "source": [
    "# Intro"
   ]
  },
  {
   "cell_type": "code",
   "execution_count": 20,
   "metadata": {},
   "outputs": [
    {
     "name": "stdout",
     "output_type": "stream",
     "text": [
      "Hello everyone!, nsk1207 running /bin/python3\n",
      "You will be asked 7 questions.\n",
      "Question: Let's see how smart you are! Ready to take a quiz?\n",
      "Okay!\n"
     ]
    }
   ],
   "source": [
    "# Intro\n",
    "print('Hello everyone!, ' + getpass.getuser() + \" running \" + sys.executable)\n",
    "print(\"You will be asked \" + str(questions) + \" questions.\")\n",
    "rsp = question_with_response(0, \"Let's see how smart you are! Ready to take a quiz?\")\n",
    "if rsp == \"no\":\n",
    "    print(\"Sorry, you must take it!\")\n",
    "    correct += 1  \n",
    "else:\n",
    "    print(\"Okay!\")"
   ]
  },
  {
   "cell_type": "markdown",
   "metadata": {},
   "source": [
    "# Start questions"
   ]
  },
  {
   "cell_type": "code",
   "execution_count": 21,
   "metadata": {},
   "outputs": [
    {
     "name": "stdout",
     "output_type": "stream",
     "text": [
      "Question 1: What command is used to include other functions that are developed?\n",
      "import is correct!\n",
      "Question 2: What command in this example is used to evaluate a response?\n",
      "if is correct!\n",
      "Question 3: Each 'if' command contains an '_________' to determine a true or false condition?\n",
      "if is incorrect!\n",
      "Question 4: What is two or more lines of code called?\n",
      "sequence is correct!\n",
      "Question 5: What is the dynamic result of the input command?\n",
      "if is incorrect!\n",
      "Question 6: What is a keyword in Python that defines a function?\n",
      "def is correct!\n",
      "Question 7: What is it called when you group a sequence of commands (often repeatedly)\n",
      "procedural abstraction is correct!\n"
     ]
    }
   ],
   "source": [
    "# Start questions\n",
    "rsp = question_with_response(1, \"What command is used to include other functions that are developed?\")\n",
    "if rsp == \"import\":\n",
    "    print(rsp + \" is correct!\")\n",
    "    correct += 1  \n",
    "else:\n",
    "    print(rsp + \" is incorrect!\")\n",
    "\n",
    "rsp = question_with_response(2, \"What command in this example is used to evaluate a response?\")\n",
    "if rsp == \"if\":\n",
    "    print(rsp + \" is correct!\")\n",
    "    correct += 1  \n",
    "else:\n",
    "    print(rsp + \" is incorrect!\")\n",
    "\n",
    "rsp = question_with_response(3, \"Each 'if' command contains an '_________' to determine a true or false condition?\")\n",
    "if rsp == \"expression\":\n",
    "    print(rsp + \" is correct!\")\n",
    "    correct += 1\n",
    "else:\n",
    "    print(rsp + \" is incorrect!\")\n",
    "\n",
    "rsp = question_with_response(4, \"What is two or more lines of code called?\")\n",
    "if rsp == \"sequence\":\n",
    "    print(rsp + \" is correct!\")\n",
    "    correct += 1  \n",
    "else:\n",
    "    print(rsp + \" is incorrect!\")\n",
    "\n",
    "rsp = question_with_response(5, \"What is the dynamic result of the input command?\")\n",
    "if rsp == \"msg\":\n",
    "    print(rsp + \" is correct!\")\n",
    "    correct += 1\n",
    "else:\n",
    "    print(rsp + \" is incorrect!\")\n",
    "\n",
    "rsp = question_with_response(6, \"What is a keyword in Python that defines a function?\")\n",
    "if rsp == \"def\":\n",
    "    print(rsp + \" is correct!\")\n",
    "    correct += 1\n",
    "else:\n",
    "    print(rsp + \" is incorrect!\")\n",
    "\n",
    "rsp = question_with_response(7, \"What is it called when you group a sequence of commands (often repeatedly)\")\n",
    "if rsp == \"procedural abstraction\":\n",
    "    print(rsp + \" is correct!\")\n",
    "    correct += 1\n",
    "else:\n",
    "    print(rsp + \" is incorrect!\")"
   ]
  },
  {
   "cell_type": "markdown",
   "metadata": {},
   "source": [
    "# Calculate percentage and results"
   ]
  },
  {
   "cell_type": "code",
   "execution_count": 22,
   "metadata": {},
   "outputs": [
    {
     "name": "stdout",
     "output_type": "stream",
     "text": [
      "nsk1207 you scored 5/7 or 71%\n"
     ]
    }
   ],
   "source": [
    "# Calculate percentage\n",
    "q_percent = 100 * correct / questions\n",
    "formatted_q_percent = \"{:.0f}\".format(q_percent)  # Rounding\n",
    "\n",
    "# Results\n",
    "print(getpass.getuser() + \" you scored \" + str(correct) +\"/\" + str(questions) + \" or \" + str(formatted_q_percent) + \"%\")"
   ]
  }
 ],
 "metadata": {
  "kernelspec": {
   "display_name": "Python 3.8.2 64-bit",
   "language": "python",
   "name": "python3"
  },
  "language_info": {
   "codemirror_mode": {
    "name": "ipython",
    "version": 3
   },
   "file_extension": ".py",
   "mimetype": "text/x-python",
   "name": "python",
   "nbconvert_exporter": "python",
   "pygments_lexer": "ipython3",
   "version": "3.8.2"
  },
  "orig_nbformat": 4,
  "vscode": {
   "interpreter": {
    "hash": "916dbcbb3f70747c44a77c7bcd40155683ae19c65e1c03b4aa3499c5328201f1"
   }
  }
 },
 "nbformat": 4,
 "nbformat_minor": 2
}
