{
 "cells": [
  {
   "cell_type": "markdown",
   "metadata": {},
   "source": [
    "# List and Dictionary Basics\n",
    "- title: APCSP - List and Dictionary Basics\n",
    "- toc: true\n",
    "- categories: [week2,jupyter]\n",
    "- comments: true "
   ]
  },
  {
   "cell_type": "markdown",
   "metadata": {},
   "source": [
    "# List and Dictionary Basics\n",
    "\n",
    "I created 4 dictionaries within my list."
   ]
  },
  {
   "cell_type": "code",
   "execution_count": 1,
   "metadata": {
    "vscode": {
     "languageId": "shellscript"
    }
   },
   "outputs": [],
   "source": [
    "InfoDb = []\n",
    "\n",
    "# InfoDB is a data structure with expected Keys and Values\n",
    "\n",
    "# Append to List a Dictionary of key/values related to a person and cars\n",
    "InfoDb.append({\n",
    "    \"FirstName\": \"Nathan\",\n",
    "    \"LastName\": \"Kim\",\n",
    "    \"DOB\": \"December 7\",\n",
    "    \"Residence\": \"San Diego\",\n",
    "    \"Email\": \"nathank51687@stu.powayusd.com\",\n",
    "    \"Hobbies\": [\"Grinding SAT\", \"Listening to Music\", \"Watching TV\"]\n",
    "})\n",
    "\n",
    "# Append to List a 2nd Dictionary of key/values\n",
    "InfoDb.append({\n",
    "    \"FirstName\": \"Max\",\n",
    "    \"LastName\": \"Wu\",\n",
    "    \"DOB\": \"January 12\",\n",
    "    \"Residence\": \"San Diego\",\n",
    "    \"Email\": \"mwu@powayusd.com\",\n",
    "    \"Hobbies\": [\"Watching TV\", \"Listening to Music\", \"Skating\"]\n",
    "})\n",
    "\n",
    "# Append to List a 3rd Dictionary of key/values\n",
    "InfoDb.append({\n",
    "    \"FirstName\": \"Bob\",\n",
    "    \"LastName\": \"Bobby\",\n",
    "    \"DOB\": \"January 10\",\n",
    "    \"Residence\": \"San Diego\",\n",
    "    \"Email\": \"bbobby@powayusd.com\",\n",
    "    \"Hobbies\": [\"Biking\", \"Eating\", \"Walking\"]\n",
    "})\n",
    "\n",
    "# Append to List a 3rd Dictionary of key/values\n",
    "InfoDb.append({\n",
    "    \"FirstName\": \"Robert\",\n",
    "    \"LastName\": \"Lee\",\n",
    "    \"DOB\": \"February 11\",\n",
    "    \"Residence\": \"San Diego\",\n",
    "    \"Email\": \"asmith@powayusd.com\",\n",
    "    \"Hobbies\": [\"Biking\", \"Eating\", \"Walking\"]\n",
    "})"
   ]
  },
  {
   "cell_type": "markdown",
   "metadata": {},
   "source": [
    "How I printed my dictionary content."
   ]
  },
  {
   "cell_type": "code",
   "execution_count": 2,
   "metadata": {
    "vscode": {
     "languageId": "shellscript"
    }
   },
   "outputs": [],
   "source": [
    "# Print the data structure\n",
    "#print(InfoDb)\n",
    "\n",
    "# print function: given a dictionary of InfoDb content\n",
    "def print_data(d_rec):\n",
    "    print(d_rec[\"FirstName\"], d_rec[\"LastName\"])  # using comma puts space between values\n",
    "    print(\"\\t\", \"Residence:\", d_rec[\"Residence\"]) # \\t is a tab indent\n",
    "    print(\"\\t\", \"Birth Day:\", d_rec[\"DOB\"])\n",
    "    print(\"\\t\", \"Hobbies: \", end=\"\")  # end=\"\" make sure no return occurs\n",
    "    print(\", \".join(d_rec[\"Hobbies\"]))  # join allows printing a string list with separator\n",
    "    print()\n"
   ]
  },
  {
   "cell_type": "markdown",
   "metadata": {},
   "source": [
    "I tried 3 different methods of printing with for loop, while loop, and for loop with index."
   ]
  },
  {
   "cell_type": "code",
   "execution_count": 5,
   "metadata": {
    "vscode": {
     "languageId": "shellscript"
    }
   },
   "outputs": [
    {
     "name": "stdout",
     "output_type": "stream",
     "text": [
      "For loop output\n",
      "\n",
      "Nathan Kim\n",
      "\t Residence: San Diego\n",
      "\t Birth Day: December 7\n",
      "\t Hobbies: Grinding SAT, Listening to Music, Watching TV\n",
      "\n",
      "Max Wu\n",
      "\t Residence: San Diego\n",
      "\t Birth Day: January 12\n",
      "\t Hobbies: Watching TV, Listening to Music, Skating\n",
      "\n",
      "Bob Bobby\n",
      "\t Residence: San Diego\n",
      "\t Birth Day: January 10\n",
      "\t Hobbies: Biking, Eating, Walking\n",
      "\n",
      "Robert Lee\n",
      "\t Residence: San Diego\n",
      "\t Birth Day: February 11\n",
      "\t Hobbies: Biking, Eating, Walking\n",
      "\n",
      "While loop output\n",
      "\n",
      "Nathan Kim\n",
      "\t Residence: San Diego\n",
      "\t Birth Day: December 7\n",
      "\t Hobbies: Grinding SAT, Listening to Music, Watching TV\n",
      "\n",
      "Max Wu\n",
      "\t Residence: San Diego\n",
      "\t Birth Day: January 12\n",
      "\t Hobbies: Watching TV, Listening to Music, Skating\n",
      "\n",
      "Bob Bobby\n",
      "\t Residence: San Diego\n",
      "\t Birth Day: January 10\n",
      "\t Hobbies: Biking, Eating, Walking\n",
      "\n",
      "Robert Lee\n",
      "\t Residence: San Diego\n",
      "\t Birth Day: February 11\n",
      "\t Hobbies: Biking, Eating, Walking\n",
      "\n",
      "For loop with index output\n",
      "\n",
      "Nathan Kim\n",
      "\t Residence: San Diego\n",
      "\t Birth Day: December 7\n",
      "\t Hobbies: Grinding SAT, Listening to Music, Watching TV\n",
      "\n",
      "Max Wu\n",
      "\t Residence: San Diego\n",
      "\t Birth Day: January 12\n",
      "\t Hobbies: Watching TV, Listening to Music, Skating\n",
      "\n",
      "Bob Bobby\n",
      "\t Residence: San Diego\n",
      "\t Birth Day: January 10\n",
      "\t Hobbies: Biking, Eating, Walking\n",
      "\n",
      "Robert Lee\n",
      "\t Residence: San Diego\n",
      "\t Birth Day: February 11\n",
      "\t Hobbies: Biking, Eating, Walking\n",
      "\n"
     ]
    }
   ],
   "source": [
    "# for loop algorithm iterates on length of InfoDb\n",
    "def for_loop():\n",
    "    print(\"For loop output\\n\")\n",
    "    for record in InfoDb:\n",
    "        print_data(record)\n",
    "\n",
    "for_loop()\n",
    "\n",
    "# while loop algorithm contains an initial n and an index incrementing statement (n += 1)\n",
    "def while_loop():\n",
    "    print(\"While loop output\\n\")\n",
    "    i = 0\n",
    "    while i < len(InfoDb):\n",
    "        record = InfoDb[i]\n",
    "        print_data(record)\n",
    "        i += 1\n",
    "    return\n",
    "\n",
    "while_loop()\n",
    "\n",
    "# for loop with index\n",
    "def for_loop_index():\n",
    "    print(\"For loop with index output\\n\")\n",
    "    for i in range(0, len(InfoDb), 1):\n",
    "        record = InfoDb[i]\n",
    "        print_data(record)\n",
    "    return\n",
    "\n",
    "for_loop_index()"
   ]
  },
  {
   "cell_type": "markdown",
   "metadata": {},
   "source": [
    "I also printed in reverse order."
   ]
  },
  {
   "cell_type": "code",
   "execution_count": 4,
   "metadata": {
    "vscode": {
     "languageId": "shellscript"
    }
   },
   "outputs": [
    {
     "name": "stdout",
     "output_type": "stream",
     "text": [
      "Reverse order\n",
      "\n",
      "Robert Lee\n",
      "\t Residence: San Diego\n",
      "\t Birth Day: February 11\n",
      "\t Hobbies: Biking, Eating, Walking\n",
      "\n",
      "Bob Bobby\n",
      "\t Residence: San Diego\n",
      "\t Birth Day: January 10\n",
      "\t Hobbies: Biking, Eating, Walking\n",
      "\n",
      "Max Wu\n",
      "\t Residence: San Diego\n",
      "\t Birth Day: January 12\n",
      "\t Hobbies: Watching TV, Listening to Music, Skating\n",
      "\n",
      "Nathan Kim\n",
      "\t Residence: San Diego\n",
      "\t Birth Day: December 7\n",
      "\t Hobbies: Grinding SAT, Listening to Music, Watching TV\n",
      "\n"
     ]
    }
   ],
   "source": [
    "# reverse order\n",
    "def for_loop_index_reverse():\n",
    "    print(\"Reverse order\\n\")\n",
    "    for i in range(len(InfoDb)-1, -1, -1):\n",
    "        record = InfoDb[i]\n",
    "        print_data(record)\n",
    "    return\n",
    "\n",
    "for_loop_index_reverse()"
   ]
  }
 ],
 "metadata": {
  "kernelspec": {
   "display_name": "Python 3.9.12 ('base')",
   "language": "python",
   "name": "python3"
  },
  "language_info": {
   "codemirror_mode": {
    "name": "ipython",
    "version": 3
   },
   "file_extension": ".py",
   "mimetype": "text/x-python",
   "name": "python",
   "nbconvert_exporter": "python",
   "pygments_lexer": "ipython3",
   "version": "3.9.12"
  },
  "orig_nbformat": 4,
  "vscode": {
   "interpreter": {
    "hash": "4b7a7f0204cc1475276a45e72644ddcc58fc6f5909a231fae554435734ab0645"
   }
  }
 },
 "nbformat": 4,
 "nbformat_minor": 2
}
