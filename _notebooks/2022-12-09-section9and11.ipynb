{
 "cells": [
  {
   "attachments": {},
   "cell_type": "markdown",
   "metadata": {},
   "source": [
    "# Developing Algorithms\n",
    "\n",
    "- toc: true \n",
    "- badges: true\n",
    "- comments: true"
   ]
  },
  {
   "attachments": {},
   "cell_type": "markdown",
   "metadata": {},
   "source": [
    "**Consider the following algorithm.**"
   ]
  },
  {
   "cell_type": "code",
   "execution_count": 1,
   "metadata": {
    "vscode": {
     "languageId": "javascript"
    }
   },
   "outputs": [
    {
     "name": "stdout",
     "output_type": "stream",
     "text": [
      "True\n"
     ]
    }
   ],
   "source": [
    "def mystery(num, num2):\n",
    "    if (num % num2 == 0):\n",
    "        print(\"True\")\n",
    "    else:\n",
    "        print(\"False\")\n",
    "\n",
    "mystery(20, 4)"
   ]
  },
  {
   "attachments": {},
   "cell_type": "markdown",
   "metadata": {},
   "source": [
    "1. What does the algorithm do? Please explain in words. The algorithim sees if the first mystery number is divisible by 4. Since 20 is divisible by 4, it prints true. \n",
    "2. What if I put in 30 as num and 4 as num2. What would be the output? False since 30 is not perfectley divisible by 4. "
   ]
  },
  {
   "attachments": {},
   "cell_type": "markdown",
   "metadata": {},
   "source": [
    "Additional Algorithim Notes\n",
    "- Algorithms are specific steps designed to accomplish a certain task\n",
    "- In developing algorithms, it is crucial to understand what algorithim is doing"
   ]
  },
  {
   "attachments": {},
   "cell_type": "markdown",
   "metadata": {},
   "source": [
    "**Editing Algoirthims**:\n",
    "Task: Please edit the algorithm above to have it yield the same results as the previous algorithm! (no matter what temp you put in)"
   ]
  },
  {
   "cell_type": "code",
   "execution_count": 3,
   "metadata": {
    "vscode": {
     "languageId": "javascript"
    }
   },
   "outputs": [
    {
     "name": "stdout",
     "output_type": "stream",
     "text": [
      "it is too hot outside\n"
     ]
    }
   ],
   "source": [
    "temp = 95\n",
    "if (temp >= 90):\n",
    "    print(\"it is too hot outside\")\n",
    "elif (temp < 65):\n",
    "    print(\"it is too cold outside\")\n",
    "else:\n",
    "    print(\"i will go outside\")"
   ]
  },
  {
   "attachments": {},
   "cell_type": "markdown",
   "metadata": {},
   "source": [
    "Task: Write an algorithm in python that sums up the first 5 odd integers. You can use the following code as a starter."
   ]
  },
  {
   "cell_type": "code",
   "execution_count": 5,
   "metadata": {
    "vscode": {
     "languageId": "javascript"
    }
   },
   "outputs": [
    {
     "name": "stdout",
     "output_type": "stream",
     "text": [
      "25\n"
     ]
    }
   ],
   "source": [
    "n = 9\n",
    "sum = 0 \n",
    "for i in range(1,n+1): \n",
    "    if i%2!=0: \n",
    "        sum+=i \n",
    "print(sum) "
   ]
  },
  {
   "attachments": {},
   "cell_type": "markdown",
   "metadata": {},
   "source": [
    "### Homework\n",
    "Create an algorithm that will start with any positive integer n and display the full sequence of numbers that result from the Collatz Conjecture. The COllatz Conjecture is as follows:\n",
    "1. start with any positive integer\n",
    "2. if the number is even, divide by 2\n",
    "3. if the number is odd, multiply by 3 and add 1\n",
    "4. repeat steps 2 and 3 until you reach 1\n",
    "\n",
    "Example: if the starting number was 6, the output would be 6, 3, 10, 5, 16, 8, 4, 2, 1"
   ]
  },
  {
   "cell_type": "code",
   "execution_count": 8,
   "metadata": {
    "vscode": {
     "languageId": "javascript"
    }
   },
   "outputs": [
    {
     "name": "stdout",
     "output_type": "stream",
     "text": [
      "6 3 10 5 16 8 4 2 1"
     ]
    }
   ],
   "source": [
    "def cc(n):\n",
    "    while n > 1:\n",
    "        print(n, end=' ')\n",
    "        if (n % 2):\n",
    "            n = 3*n + 1\n",
    "        else:\n",
    "            n = n//2\n",
    "    print(1, end='')\n",
    " \n",
    " \n",
    "n = int(input('Enter n: '))\n",
    "print(end='')\n",
    "cc(n)"
   ]
  },
  {
   "attachments": {},
   "cell_type": "markdown",
   "metadata": {},
   "source": [
    "**Java Script**"
   ]
  },
  {
   "attachments": {},
   "cell_type": "markdown",
   "metadata": {},
   "source": [
    "To determine if two conditionals and booleans are the same, you can substitute the four possibilities that the two booleans (sunny and rainy) can be (listed below) into the conditional and boolean and see if both cases match: \n",
    "\n",
    "- sunny = true, rainy = true\n",
    "- sunny = true, rainy = false\n",
    "- sunny = false, rainy = true\n",
    "- sunny = false, rainy = false\n",
    "\n"
   ]
  },
  {
   "attachments": {},
   "cell_type": "markdown",
   "metadata": {},
   "source": [
    "# Challenge \n",
    "\n",
    "Using JavaScript, create an algorithm that takes in an IP address and a subnet mask and computes the network address.\n",
    "\n",
    "## Overview\n",
    "\n",
    "As we've seen in Unit 4.1, an IP address is a 32 bit number that uniquely identifies each device. (See [this](https://apclassroom.collegeboard.org/103/home?apd=n5rz22pu2h&unit=4) for a recap). Something extra is that an IP address also comes with a subnet mask. A subnet mask is also a 32 bit number that identifies what network an IP address in in through a process that uses the bitwise AND.\n",
    "\n",
    "In ANDing: \n",
    "\n",
    "0 + 0 = 0\n",
    "\n",
    "0 + 1 = 0 \n",
    "\n",
    "1 + 0 = 0\n",
    "\n",
    "1 + 1 = 1\n",
    "\n",
    "<br>\n",
    "The following are the steps to determine the network that an IP address is in given the subnet mask:\n",
    "\n",
    "Example: IP address: 192.168.0.1\n",
    "\n",
    "Subnet mask: 255.255.255.0\n",
    "\n",
    "1. Convert the IP address into binary: 192.168.0.1 -> 11000000.10101000.00000000.00000001\n",
    "2. Convert the subnet mask into binary: 255.255.255.0 -> 11111111.11111111.11111111.00000000\n",
    "3. Do a bitwise AND operation on the binary IP address and subnet mask: \n",
    "\n",
    "```\n",
    " 11000000.10101000.00000000.00000001\n",
    "+11111111.11111111.11111111.00000000\n",
    "=11000000.10101000.00000000.00000000\n",
    "```\n",
    "4. Convert the result back to decimal: 11000000.10101000.00000000.00000000 -> 192.168.0.0\n",
    "\n",
    "The network address is `192.168.0.0`\n"
   ]
  },
  {
   "attachments": {},
   "cell_type": "markdown",
   "metadata": {},
   "source": [
    "**Binary Search**"
   ]
  },
  {
   "attachments": {},
   "cell_type": "markdown",
   "metadata": {},
   "source": [
    "Notes on seqeuential search: \n",
    "- Searching when it comes to computer programs and applications involves locating and retrieving a data value/and or its index\n",
    "- Although for selection sort is  fast for smaller inputs, it cannot keep up with increasing input sizes. \n",
    "- Because sequential search checks every value of the given array, the algorithm's overall runtime increases\n"
   ]
  },
  {
   "attachments": {},
   "cell_type": "markdown",
   "metadata": {},
   "source": [
    "Notes on Binary Search\n",
    "- an efficient way to iterate through a sorted list to find a value. \n",
    "- This is done through checking the middle value of a list and checking if the requested value is greater than or less than the middle value\n",
    "- If list is not sorted, binary search algorithm will not work\n",
    "- In every iteration the algorithm is making a binary decision; if the selected element is larger or smaller than the target\n"
   ]
  },
  {
   "attachments": {},
   "cell_type": "markdown",
   "metadata": {},
   "source": [
    "## Challenges and Homework\n",
    "\n",
    "You have one homework problem.\n",
    "  \n",
    "Yes just one.\n",
    "  \n",
    "Don't get excited though.\n",
    "\n",
    "**Problem:** Given a specific integer **N**, return the square root of **N** (**R**) if **N** is a perfect square, otherwise, return the square root of **N** rounded down to the nearest integer\n",
    "\n",
    "**Input:** **N** (Integer)\n",
    "\n",
    "**Output:** **R** (Integer)\n",
    "  \n",
    "**Constraints:** Do not use any built-in math operations such as `sqrt(x)` or `x**(0.5)`, Try complete the problem in logarithmic time. \n",
    "  \n",
    "**Hint 1:** Maybe you can use Binary Search to try and reduce the number of checks you have to perform?  \n",
    "  \n",
    "**Hint 2:** Is there a mathematical pattern amongst numbers and their square roots that could help you reduce the number of searches or iterations you must execute? Is there some value or rule you can set before applying binary search to narrow the range of possible values?"
   ]
  },
  {
   "attachments": {},
   "cell_type": "markdown",
   "metadata": {},
   "source": [
    "Run the very last code segment below to load test cases and submission function"
   ]
  },
  {
   "cell_type": "code",
   "execution_count": 9,
   "metadata": {},
   "outputs": [],
   "source": [
    "def sqrt(N):\n",
    "    x = N\n",
    "    y = (x+1) // 2\n",
    "    while y < x:\n",
    "        x = y\n",
    "        y = (x + N //x) //2\n",
    "    return x"
   ]
  },
  {
   "cell_type": "code",
   "execution_count": 10,
   "metadata": {},
   "outputs": [
    {
     "name": "stdout",
     "output_type": "stream",
     "text": [
      "Check number 1 passed\n",
      "Check number 2 passed\n",
      "Check number 3 passed\n",
      "Check number 4 passed\n",
      "Check number 5 passed\n",
      "Check number 6 passed\n",
      "Check number 7 passed\n",
      "Check number 8 passed\n",
      "Check number 9 passed\n",
      "Check number 10 passed\n",
      "Check number 11 passed\n",
      "Check number 12 passed\n",
      "Check number 13 passed\n"
     ]
    }
   ],
   "source": [
    "from math import sqrt as sq\n",
    "test_cases = [0,1,4,85248289,22297284,18939904,91107025,69122596,9721924,37810201,1893294144,8722812816,644398225]\n",
    "answers = [int(sq(x)) for x in test_cases]\n",
    "\n",
    "def checkValid():\n",
    "    for i in range(len(test_cases)):\n",
    "        if sqrt(test_cases[i]) == answers[i]:\n",
    "            print(\"Check number {} passed\".format(i+1))\n",
    "        else:\n",
    "            print(\"Check number {} failed\".format(i+1))\n",
    "\n",
    "checkValid()"
   ]
  }
 ],
 "metadata": {
  "kernelspec": {
   "display_name": "base",
   "language": "python",
   "name": "python3"
  },
  "language_info": {
   "file_extension": ".js",
   "mimetype": "application/javascript",
   "name": "python",
   "version": "3.9.12 (main, Apr  5 2022, 06:56:58) \n[GCC 7.5.0]"
  },
  "orig_nbformat": 4,
  "vscode": {
   "interpreter": {
    "hash": "4b7a7f0204cc1475276a45e72644ddcc58fc6f5909a231fae554435734ab0645"
   }
  }
 },
 "nbformat": 4,
 "nbformat_minor": 2
}
