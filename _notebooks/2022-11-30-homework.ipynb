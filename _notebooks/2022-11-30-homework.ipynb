{
 "cells": [
  {
   "cell_type": "markdown",
   "metadata": {},
   "source": [
    "# Homework \n",
    "\n",
    "- toc: true\n",
    "- badges: true\n",
    "- comments: true\n",
    "- categories: [Week 13]"
   ]
  },
  {
   "cell_type": "markdown",
   "metadata": {},
   "source": [
    "# Notes from 3.5-3.7\n",
    "\n",
    "3.5\n",
    "Important vocab\n",
    "- Boolean\n",
    "- Relational Operator\n",
    "- Logical Operator\n",
    "\n",
    "Boolean Operators: Produces booleans after used between 2 values\n",
    "\n",
    "Relational Operators: These can work between any 2 values of the same type known as operands\n",
    "\n",
    "Logical Operators: These are operators that works on operand(s) to produce a single boolean result\n",
    "\n",
    "3.6\n",
    "Algorithm - set of instructions that accomplish a certain task\n",
    "Selection - the process that determines which parts of an algoritm is being executed based on a condition\n",
    "Conditional - a statement that affects the outcome of a program by executing different statements based on the result of a true or false statement (boolean)\n",
    "\n",
    "Examples of conditionals are if else statements\n",
    "\n",
    "3.7\n",
    "Nested Conditional statements - conditional statements within conditional statements\n"
   ]
  },
  {
   "cell_type": "markdown",
   "metadata": {},
   "source": [
    "## Homework/Hacks\n",
    "\n",
    " our homework we have decided for a decimal number to binary converter. You must use conditional statements within your code and have a input box for where the decimal number will go. This will give you a 2.7 out of 3 and you may add anything else to the code to get above a 2.7.\n",
    "\n"
   ]
  },
  {
   "cell_type": "markdown",
   "metadata": {},
   "source": [
    "Below is an example of decimal number to binary converter which you can use as a starting template."
   ]
  },
  {
   "cell_type": "code",
   "execution_count": 1,
   "metadata": {},
   "outputs": [
    {
     "name": "stdout",
     "output_type": "stream",
     "text": [
      "Binary of num 67 is: 1000011\n"
     ]
    }
   ],
   "source": [
    "def DecimalToBinary(num):\n",
    "    strs = \"\"\n",
    "    while num:\n",
    "        # if (num & 1) = 1\n",
    "        if (num & 1):\n",
    "            strs += \"1\"\n",
    "        # if (num & 1) = 0\n",
    "        else:\n",
    "            strs += \"0\"\n",
    "        # right shift by 1\n",
    "        num >>= 1\n",
    "    return strs\n",
    " \n",
    "# function to reverse the string\n",
    "def reverse(strs):\n",
    "    print(strs[::-1])\n",
    " \n",
    "# Driver Code\n",
    "num = 67\n",
    "print(\"Binary of num 67 is:\", end=\" \")\n",
    "reverse(DecimalToBinary(num))"
   ]
  },
  {
   "cell_type": "code",
   "execution_count": 9,
   "metadata": {},
   "outputs": [
    {
     "name": "stdout",
     "output_type": "stream",
     "text": [
      "Binary of num 7 is 111\n"
     ]
    }
   ],
   "source": [
    "# Decimal -> binary function with conditional statements \n",
    "def DecimalToBinary(num):\n",
    "    strs = \"\"\n",
    "    while num:\n",
    "        # if (num & 1) = 1\n",
    "        if (num & 1):\n",
    "            strs += \"1\"\n",
    "        # if (num & 1) = 0\n",
    "        else:\n",
    "            strs += \"0\"\n",
    "        # right shift by 1\n",
    "        num >>= 1\n",
    "    return strs\n",
    "\n",
    "# Driver Code\n",
    "num = int(input(\"Plug in number\"))\n",
    "print(\"Binary of num {0} is {1}\".format(num, DecimalToBinary(num)))"
   ]
  },
  {
   "cell_type": "markdown",
   "metadata": {},
   "source": [
    "# Frontend Version"
   ]
  },
  {
   "cell_type": "markdown",
   "metadata": {},
   "source": [
    "<div class=\"container bg-primary\">\n",
    "    <form>\n",
    "        <div class=\"form-group row\">\n",
    "            Type a decimal number and press tab to convert to binary:\n",
    "            <div>\n",
    "                <input onblur=\"convert()\" type=\"text\" name=\"decimal\" id=\"decimal\"/><br>\n",
    "            </div>\n",
    "        </div>\n",
    "        <div class=\"form-group row\">\n",
    "            Binary : <span id=\"binary\" ></span>\n",
    "        </div>\n",
    "    </form>\n",
    "</div>\n",
    "\n",
    "<script>\n",
    "    function convert(){\n",
    "        var array = document.getElementsByName('decimal');  // user input (can be letters, symbols, etc. (strings))\n",
    "        if (array[array.length-1].value.length != 0) {  // skip the process if user input is literally nothing \n",
    "            var binary = [];  // stores binary result\n",
    "            var decimal = parseInt(array[0].value)  // user decimal input\n",
    "            var rem;  // temporary variable to store remainder\n",
    "            if (decimal == \"0\") {  // if user input is decimal 0, binary output will also be 0\n",
    "                binary.unshift(\"0\"); // unshift adds elements of the array to the front\n",
    "            }\n",
    "            else {\n",
    "                while (decimal != 0){  // continues until quotient becomes 0  \n",
    "                    rem = decimal%2;  // %2 calculates the remainder of given decimal\n",
    "                    binary.unshift(rem);  // stores remainder \n",
    "                    decimal = Math.floor(decimal/2)  // rounds down decimal / 2\n",
    "                }\n",
    "            } \n",
    "            const final = binary.join('');  // converts array to string (for example, array may be 1,0,1,0,0 and a string is 10100)\n",
    "            document.getElementById('binary').innerHTML = final;   // sends binary to html\n",
    "        }\n",
    "        document.getElementById(\"decimal\").focus();\n",
    "    }\n",
    "\n",
    "</script>"
   ]
  }
 ],
 "metadata": {
  "kernelspec": {
   "display_name": "Python 3.9.6 64-bit",
   "language": "python",
   "name": "python3"
  },
  "language_info": {
   "codemirror_mode": {
    "name": "ipython",
    "version": 3
   },
   "file_extension": ".py",
   "mimetype": "text/x-python",
   "name": "python",
   "nbconvert_exporter": "python",
   "pygments_lexer": "ipython3",
   "version": "3.8.2"
  },
  "orig_nbformat": 4,
  "vscode": {
   "interpreter": {
    "hash": "31f2aee4e71d21fbe5cf8b01ff0e069b9275f58929596ceb00d14d90e3e16cd6"
   }
  }
 },
 "nbformat": 4,
 "nbformat_minor": 2
}
