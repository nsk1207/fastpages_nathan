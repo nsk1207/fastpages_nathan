{
 "cells": [
  {
   "cell_type": "markdown",
   "metadata": {},
   "source": [
    "# Quiz with List and Dictionary \n",
    "- title: APCSP - Quiz with List and Dictionary\n",
    "- toc: true\n",
    "- categories: [week2]\n",
    "- comments: true "
   ]
  },
  {
   "cell_type": "markdown",
   "metadata": {},
   "source": [
    "I created questions for two subjects (math and history)"
   ]
  },
  {
   "cell_type": "code",
   "execution_count": 18,
   "metadata": {},
   "outputs": [],
   "source": [
    "import getpass, sys\n",
    "\n",
    "SubjectList = [\"Math\", \"History\"]\n",
    "\n",
    "QandA = []\n",
    "\n",
    "# math\n",
    "QandA.append({\n",
    "    \"What is 10 times 14?\": \"140\", \n",
    "    \"What is 3 times 8?\": \"24\", \n",
    "    \"What is 10 divided by 2?\": \"5\",\n",
    "    \"What is 20 times 6?\": \"120\",\n",
    "    \"What is 4 times 15?\": \"60\"\n",
    "    })\n",
    "\n",
    "# history\n",
    "QandA.append({\n",
    "    \"When did the Civil War start?\": \"1861\", \n",
    "    \"Who was the first president?\": \"George Washington\"\n",
    "    })"
   ]
  },
  {
   "cell_type": "markdown",
   "metadata": {},
   "source": [
    "This code gives the question and checks the answer. "
   ]
  },
  {
   "cell_type": "code",
   "execution_count": 19,
   "metadata": {},
   "outputs": [],
   "source": [
    "# Print question and return user input\n",
    "def question_with_response(prompt):\n",
    "    print(\"Question \" + \": \" + prompt)\n",
    "    msg = input()\n",
    "    return msg\n",
    "\n",
    "# ask questions and check answers\n",
    "def for_loop_index():        \n",
    "    scores = [0 , 0]\n",
    "    # subject index    \n",
    "    s = 0    \n",
    "    for subject in QandA:\n",
    "        print(\"\\nSubject: \" + SubjectList[s])\n",
    "        for ques, ans in subject.items():        \n",
    "            #print(ques, ans)\n",
    "            rsp = question_with_response(ques)\n",
    "            if rsp == ans:\n",
    "                print(rsp + \" is correct!\")\n",
    "                scores[s] += 1 \n",
    "            else:\n",
    "                print(rsp + \" is incorrect!\")\n",
    "        # subject index increase\n",
    "        s += 1\n",
    "    \n",
    "    print()\n",
    "    print(\"Correct answers in \" + SubjectList[0] + \": \" + str(scores[0]) + \" out of \" + str(len(QandA[0])))\n",
    "    print(\"Correct answers in \" + SubjectList[1] + \": \" + str(scores[1]) + \" out of \" + str(len(QandA[1])))\n",
    "    return"
   ]
  },
  {
   "cell_type": "markdown",
   "metadata": {},
   "source": [
    "This code gives a question and answer into the math section at the start with input."
   ]
  },
  {
   "cell_type": "code",
   "execution_count": null,
   "metadata": {},
   "outputs": [
    {
     "name": "stdout",
     "output_type": "stream",
     "text": [
      "Please add a questions in Math\n",
      "Please add corresponding answer\n",
      "You provided What is 10x6? and 60\n"
     ]
    }
   ],
   "source": [
    "# add a new math question with input\n",
    "print(\"Please add a questions in Math\")\n",
    "newq = input()\n",
    "print(\"Please add corresponding answer\")\n",
    "newa = input()\n",
    "print(\"You provided \" + newq + \" and \" + newa)\n",
    "\n",
    "#add new question and answer\n",
    "temp_dict = {newq: newa}\n",
    "QandA[0].update(temp_dict)"
   ]
  },
  {
   "cell_type": "markdown",
   "metadata": {},
   "source": [
    "This code starts the quiz."
   ]
  },
  {
   "cell_type": "code",
   "execution_count": 22,
   "metadata": {},
   "outputs": [
    {
     "name": "stdout",
     "output_type": "stream",
     "text": [
      "Hello everyone!, nsk1207 running /home/nsk1207/anaconda3/bin/python\n",
      "Let's see how smart you are! Ready to take a quiz?\n",
      "\n",
      "Subject: Math\n",
      "Question : What is 10 times 14?\n",
      "140 is correct!\n",
      "Question : What is 3 times 8?\n",
      "24 is correct!\n",
      "Question : What is 10 divided by 2?\n",
      "5 is correct!\n",
      "Question : What is 20 times 6?\n",
      "120 is correct!\n",
      "Question : What is 4 times 15?\n",
      "50 is incorrect!\n",
      "Question : What is 10x6?\n",
      "1861 is incorrect!\n",
      "\n",
      "Subject: History\n",
      "Question : When did the Civil War start?\n",
      "George Washington is incorrect!\n",
      "Question : Who was the first president?\n",
      "1861 is incorrect!\n",
      "\n",
      "Correct answers in Math: 4 out of 6\n",
      "Correct answers in History: 0 out of 2\n"
     ]
    }
   ],
   "source": [
    "# Start questions\n",
    "print('Hello everyone!, ' + getpass.getuser() + \" running \" + sys.executable)\n",
    "print(\"Let's see how smart you are! Ready to take a quiz?\")\n",
    "for_loop_index()"
   ]
  }
 ],
 "metadata": {
  "kernelspec": {
   "display_name": "Python 3.9.12 ('base')",
   "language": "python",
   "name": "python3"
  },
  "language_info": {
   "codemirror_mode": {
    "name": "ipython",
    "version": 3
   },
   "file_extension": ".py",
   "mimetype": "text/x-python",
   "name": "python",
   "nbconvert_exporter": "python",
   "pygments_lexer": "ipython3",
   "version": "3.9.12"
  },
  "orig_nbformat": 4,
  "vscode": {
   "interpreter": {
    "hash": "4b7a7f0204cc1475276a45e72644ddcc58fc6f5909a231fae554435734ab0645"
   }
  }
 },
 "nbformat": 4,
 "nbformat_minor": 2
}
