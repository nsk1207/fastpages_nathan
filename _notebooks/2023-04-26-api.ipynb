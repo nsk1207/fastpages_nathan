{
 "cells": [
  {
   "attachments": {},
   "cell_type": "markdown",
   "metadata": {},
   "source": [
    "#  API Use\n",
    "- toc: true \n",
    "- badges: true\n",
    "- comments: true\n",
    "- categories: [jupyter, lesson]"
   ]
  },
  {
   "cell_type": "markdown",
   "metadata": {},
   "source": [
    "# My Personal API (Weather)"
   ]
  },
  {
   "cell_type": "code",
   "execution_count": 31,
   "metadata": {},
   "outputs": [
    {
     "name": "stdout",
     "output_type": "stream",
     "text": [
      "Weather\n",
      "wind_cdir N\n",
      "rh 51\n",
      "pod d\n",
      "pres 1014\n",
      "clouds 25\n",
      "vis 36.896\n",
      "wind_spd 3.88\n",
      "snow_depth 0\n",
      "wind_cdir_full north\n",
      "slp 1022\n",
      "datetime 2022-10-08:18\n",
      "ts 1665252000\n",
      "dewpt 9.5\n",
      "uv 4.7\n",
      "wind_dir 4\n",
      "ghi 739.78\n",
      "dhi 112.16\n",
      "ozone 286.8\n",
      "clouds_hi 100\n",
      "weather {'description': 'Scattered clouds', 'code': 802, 'icon': 'c02d'}\n",
      "clouds_low 11\n",
      "temp 19.9\n",
      "app_temp 19.3\n",
      "timestamp_utc 2022-10-08T18:00:00\n",
      "timestamp_local 2022-10-08T14:00:00\n",
      "snow 0\n",
      "wind_gust_spd 4.71\n",
      "solar_rad 733.805\n",
      "precip 0\n",
      "pop 0\n",
      "dni 882.97\n",
      "clouds_mid 0\n",
      "wind_cdir N\n",
      "rh 90\n",
      "pod n\n",
      "pres 1015\n",
      "clouds 100\n",
      "vis 3.8\n",
      "wind_spd 1.88\n",
      "snow_depth 0\n",
      "wind_cdir_full north\n",
      "slp 1022\n",
      "datetime 2022-10-10:09\n",
      "ts 1665392400\n",
      "dewpt 13.2\n",
      "uv 0\n",
      "wind_dir 10\n",
      "ghi 0\n",
      "dhi 0\n",
      "ozone 287.3\n",
      "clouds_hi 13\n",
      "weather {'description': 'Light shower rain', 'code': 520, 'icon': 'r04n'}\n",
      "clouds_low 100\n",
      "temp 14.8\n",
      "app_temp 14.8\n",
      "timestamp_utc 2022-10-10T09:00:00\n",
      "timestamp_local 2022-10-10T05:00:00\n",
      "snow 0\n",
      "wind_gust_spd 3.32\n",
      "solar_rad 0\n",
      "precip 2.8787613\n",
      "pop 80\n",
      "dni 0\n",
      "clouds_mid 100\n"
     ]
    }
   ],
   "source": [
    "from curses.ascii import US\n",
    "from parso import split_lines\n",
    "import requests\n",
    "\n",
    "url = \"https://weatherbit-v1-mashape.p.rapidapi.com/forecast/3hourly\"\n",
    "\n",
    "querystring = {\"lat\":\"35.5\",\"lon\":\"-78.5\"}\n",
    "\n",
    "headers = {\n",
    "\t\"X-RapidAPI-Key\": \"26d9a3c8fbmshd1c8fc32ca8acc3p190a69jsn54f737b8e33b\",\n",
    "\t\"X-RapidAPI-Host\": \"weatherbit-v1-mashape.p.rapidapi.com\"\n",
    "}\n",
    "\n",
    "response = requests.request(\"GET\", url, headers=headers, params=querystring)\n",
    "\n",
    "# print(response.text)\n",
    "\n",
    "print(\"Weather\")\n",
    "weathers = response.json().get('data')\n",
    "for weather in weathers:  # weathers is a list\n",
    "    if weather[\"wind_cdir\"] == \"N\":  # this filters for N\n",
    "        for key, value in weather.items():  # this finds key, value pairs in country\n",
    "            print(key, value)"
   ]
  }
 ],
 "metadata": {
  "kernelspec": {
   "display_name": "Python 3.8.2 64-bit",
   "language": "python",
   "name": "python3"
  },
  "language_info": {
   "codemirror_mode": {
    "name": "ipython",
    "version": 3
   },
   "file_extension": ".py",
   "mimetype": "text/x-python",
   "name": "python",
   "nbconvert_exporter": "python",
   "pygments_lexer": "ipython3",
   "version": "3.8.10"
  },
  "orig_nbformat": 4,
  "vscode": {
   "interpreter": {
    "hash": "916dbcbb3f70747c44a77c7bcd40155683ae19c65e1c03b4aa3499c5328201f1"
   }
  }
 },
 "nbformat": 4,
 "nbformat_minor": 2
}
