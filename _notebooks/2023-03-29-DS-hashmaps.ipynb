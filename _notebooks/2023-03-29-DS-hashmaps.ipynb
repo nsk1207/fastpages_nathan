{
 "cells": [
  {
   "attachments": {},
   "cell_type": "markdown",
   "metadata": {},
   "source": [
    "#  Data Structures- Hashmaps, Sets, Hash Tables, Hashing and Collisions\n",
    "> Observing hashmaps with python dictionaries\n",
    "- toc: true\n",
    "- type: pbl\n",
    "- week: 28"
   ]
  },
  {
   "attachments": {},
   "cell_type": "markdown",
   "metadata": {},
   "source": [
    "## What is a Hashtable/Hashmap?\n",
    "\n",
    "> A hashtable is a data structure that with a collection of key-value pairs, where each key maps to a value, and the keys must be unique and hashable.\n",
    "\n",
    "- In Python there is a built in hashtable known as a <mark>dictionary</mark>.\n",
    "\n",
    "> The primary purpose of a hashtable is to provide efficient lookup, insertion, and deletion operations. When an element is to be inserted into the hashtable, a hash function is used to map the key to a specific index in the underlying array that is used to store the key-value pairs. The value is then stored at that index. When searching for a value, the hash function is used again to find the index where the value is stored.\n",
    "\n",
    "> The key advantage of a hashtable over other data structures like arrays and linked lists is its average-case time complexity for lookup, insertion, and deletion operations.\n",
    "\n",
    "- The typical time complexity of a hashtable is <mark>constant</mark>. \n"
   ]
  },
  {
   "attachments": {},
   "cell_type": "markdown",
   "metadata": {},
   "source": [
    "## What is Hashing and Collision?\n",
    "\n",
    "> Hashing is the process of mapping a given key to a value in a hash table or hashmap, using a hash function. The hash function takes the key as input and produces a hash value or hash code, which is then used to determine the index in the underlying array where the value is stored. The purpose of hashing is to provide a quick and efficient way to access data, by eliminating the need to search through an entire data structure to find a value.\n",
    "\n",
    "> However, it is possible for two different keys to map to the same hash value, resulting in a collision. When a collision occurs, there are different ways to resolve it, depending on the collision resolution strategy used.\n",
    "\n",
    "> Python's dictionary implementation is optimized to handle collisions efficiently, and the performance of the dictionary is generally very good, even in the presence of collisions. However, if the number of collisions is very high, the performance of the dictionary can degrade, so it is important to choose a good hash function that minimizes collisions when designing a Python dictionary.\n",
    "\n",
    "## What is a Set?"
   ]
  },
  {
   "cell_type": "code",
   "execution_count": 13,
   "metadata": {},
   "outputs": [
    {
     "name": "stdout",
     "output_type": "stream",
     "text": [
      "{1, 2, 3}\n"
     ]
    }
   ],
   "source": [
    "# Creating a set using set() function\n",
    "my_set = set([1, 2, 3, 2, 1])\n",
    "print(my_set)  \n",
    "\n",
    "# What do you notice in the output?\n",
    "# It doesn't output the repeated numbers (Only outputs one of each)\n",
    "\n",
    "\n",
    "# Why do you think Sets are in the same tech talk as Hashmaps/Hashtables?\n",
    "# Both will always contain unique values (It disregards the duplicate items)"
   ]
  },
  {
   "attachments": {},
   "cell_type": "markdown",
   "metadata": {},
   "source": [
    "## Dictionary Example\n",
    "\n",
    "Below are just some basic features of a dictionary. As always, documentation is always the main source for all the full capablilties. "
   ]
  },
  {
   "cell_type": "code",
   "execution_count": 14,
   "metadata": {},
   "outputs": [
    {
     "name": "stdout",
     "output_type": "stream",
     "text": [
      "{'title': 'Lover', 'artist': 'Taylor Swift', 'year': 2019, 'genre': ['Pop', 'Synth-pop'], 'tracks': {1: 'I Forgot That You Existed', 2: 'Cruel Summer', 3: 'Lover', 4: 'The Man', 5: 'The Archer', 6: 'I Think He Knows', 7: 'Miss Americana & The Heartbreak Prince', 8: 'Paper Rings', 9: 'Cornelia Street', 10: 'Death By A Thousand Cuts', 11: 'London Boy', 12: \"Soon You'll Get Better (feat. Dixie Chicks)\", 13: 'False God', 14: 'You Need To Calm Down', 15: 'Afterglow', 16: 'Me! (feat. Brendon Urie of Panic! At The Disco)', 17: \"It's Nice To Have A Friend\", 18: 'Daylight'}}\n"
     ]
    }
   ],
   "source": [
    "# Creating a dictionary with information about the album \"Lover\"\n",
    "lover_album = {\n",
    "    \"title\": \"Lover\",\n",
    "    \"artist\": \"Taylor Swift\",\n",
    "    \"year\": 2019,\n",
    "    \"genre\": [\"Pop\", \"Synth-pop\"],\n",
    "    \"tracks\": {\n",
    "        1: \"I Forgot That You Existed\",\n",
    "        2: \"Cruel Summer\",\n",
    "        3: \"Lover\",\n",
    "        4: \"The Man\",\n",
    "        5: \"The Archer\",\n",
    "        6: \"I Think He Knows\",\n",
    "        7: \"Miss Americana & The Heartbreak Prince\",\n",
    "        8: \"Paper Rings\",\n",
    "        9: \"Cornelia Street\",\n",
    "        10: \"Death By A Thousand Cuts\",\n",
    "        11: \"London Boy\",\n",
    "        12: \"Soon You'll Get Better (feat. Dixie Chicks)\",\n",
    "        13: \"False God\",\n",
    "        14: \"You Need To Calm Down\",\n",
    "        15: \"Afterglow\",\n",
    "        16: \"Me! (feat. Brendon Urie of Panic! At The Disco)\",\n",
    "        17: \"It's Nice To Have A Friend\",\n",
    "        18: \"Daylight\"\n",
    "    }\n",
    "}\n",
    "\n",
    "# What data structures do you see?\n",
    "# Dictionary and lists\n",
    "\n",
    "# Printing the dictionary\n",
    "print(lover_album)"
   ]
  },
  {
   "cell_type": "code",
   "execution_count": 15,
   "metadata": {},
   "outputs": [
    {
     "name": "stdout",
     "output_type": "stream",
     "text": [
      "{1: 'I Forgot That You Existed', 2: 'Cruel Summer', 3: 'Lover', 4: 'The Man', 5: 'The Archer', 6: 'I Think He Knows', 7: 'Miss Americana & The Heartbreak Prince', 8: 'Paper Rings', 9: 'Cornelia Street', 10: 'Death By A Thousand Cuts', 11: 'London Boy', 12: \"Soon You'll Get Better (feat. Dixie Chicks)\", 13: 'False God', 14: 'You Need To Calm Down', 15: 'Afterglow', 16: 'Me! (feat. Brendon Urie of Panic! At The Disco)', 17: \"It's Nice To Have A Friend\", 18: 'Daylight'}\n",
      "{1: 'I Forgot That You Existed', 2: 'Cruel Summer', 3: 'Lover', 4: 'The Man', 5: 'The Archer', 6: 'I Think He Knows', 7: 'Miss Americana & The Heartbreak Prince', 8: 'Paper Rings', 9: 'Cornelia Street', 10: 'Death By A Thousand Cuts', 11: 'London Boy', 12: \"Soon You'll Get Better (feat. Dixie Chicks)\", 13: 'False God', 14: 'You Need To Calm Down', 15: 'Afterglow', 16: 'Me! (feat. Brendon Urie of Panic! At The Disco)', 17: \"It's Nice To Have A Friend\", 18: 'Daylight'}\n"
     ]
    }
   ],
   "source": [
    "# Retrieve value from dictionary with key\n",
    "\n",
    "# get method\n",
    "print(lover_album.get('tracks'))\n",
    "# or\n",
    "\n",
    "# index method\n",
    "print(lover_album['tracks'])"
   ]
  },
  {
   "cell_type": "code",
   "execution_count": 16,
   "metadata": {},
   "outputs": [
    {
     "name": "stdout",
     "output_type": "stream",
     "text": [
      "The Man\n",
      "The Man\n"
     ]
    }
   ],
   "source": [
    "# Retrieve value from a dictionary inside a dictionary\n",
    "\n",
    "# get + index\n",
    "print(lover_album.get('tracks')[4])\n",
    "# or\n",
    "\n",
    "# double indexing\n",
    "print(lover_album['tracks'][4])"
   ]
  },
  {
   "cell_type": "code",
   "execution_count": 17,
   "metadata": {},
   "outputs": [
    {
     "name": "stdout",
     "output_type": "stream",
     "text": [
      "{'title': 'Lover', 'artist': 'Taylor Swift', 'year': 2019, 'genre': ['Pop', 'Synth-pop'], 'tracks': {1: 'I Forgot That You Existed', 2: 'Cruel Summer', 3: 'Lover', 4: 'The Man', 5: 'The Archer', 6: 'I Think He Knows', 7: 'Miss Americana & The Heartbreak Prince', 8: 'Paper Rings', 9: 'Cornelia Street', 10: 'Death By A Thousand Cuts', 11: 'London Boy', 12: \"Soon You'll Get Better (feat. Dixie Chicks)\", 13: 'False God', 14: 'You Need To Calm Down', 15: 'Afterglow', 16: 'Me! (feat. Brendon Urie of Panic! At The Disco)', 17: \"It's Nice To Have A Friend\", 18: 'Daylight'}, 'producer': {'Jack Antonoff', 'Joel Little', 'Taylor Swift', 'Frank Dukes', 'Louis Bell'}}\n"
     ]
    }
   ],
   "source": [
    "# adding a value with a new key\n",
    "lover_album[\"producer\"] = set(['Taylor Swift', 'Jack Antonoff', 'Joel Little', 'Taylor Swift', 'Louis Bell', 'Frank Dukes'])\n",
    "\n",
    "# What can you change to make sure there are no duplicate producers?\n",
    "# you could turn the list of producers into a set\n",
    "\n",
    "# Printing the dictionary\n",
    "print(lover_album)"
   ]
  },
  {
   "cell_type": "code",
   "execution_count": 18,
   "metadata": {},
   "outputs": [
    {
     "name": "stdout",
     "output_type": "stream",
     "text": [
      "{'title': 'Lover', 'artist': 'Taylor Swift', 'year': 2019, 'genre': ['Pop', 'Synth-pop'], 'tracks': {1: 'I Forgot That You Existed', 2: 'Cruel Summer', 3: 'Lover', 4: 'The Man', 5: 'The Archer', 6: 'I Think He Knows', 7: 'Miss Americana & The Heartbreak Prince', 8: 'Paper Rings', 9: 'Cornelia Street', 10: 'Death By A Thousand Cuts', 11: 'London Boy', 12: \"Soon You'll Get Better (feat. Dixie Chicks)\", 13: 'False God', 14: 'You Need To Calm Down', 15: 'Afterglow', 16: 'Me! (feat. Brendon Urie of Panic! At The Disco)', 17: \"It's Nice To Have A Friend\", 18: 'Daylight', 19: 'All Of The Girls You Loved Before'}, 'producer': {'Jack Antonoff', 'Joel Little', 'Taylor Swift', 'Frank Dukes', 'Louis Bell'}}\n"
     ]
    }
   ],
   "source": [
    "# Adding a an key-value pair to an existing key \n",
    "lover_album[\"tracks\"].update({19: \"All Of The Girls You Loved Before\"})\n",
    "\n",
    "# How would add an additional genre to the dictionary, like electropop? \n",
    "# you would .update the [\"genre\"] key by appending \"electropop\"\n",
    "\n",
    "# Printing the dictionary\n",
    "print(lover_album)"
   ]
  },
  {
   "cell_type": "code",
   "execution_count": 19,
   "metadata": {},
   "outputs": [
    {
     "name": "stdout",
     "output_type": "stream",
     "text": [
      "Title: Lover\n",
      "Artist: Taylor Swift\n",
      "Year: 2019\n",
      "Genre: Pop, Synth-pop\n",
      "Tracks:\n",
      "\t1: I Forgot That You Existed\n",
      "\t2: Cruel Summer\n",
      "\t3: Lover\n",
      "\t4: The Man\n",
      "\t5: The Archer\n",
      "\t6: I Think He Knows\n",
      "\t7: Miss Americana & The Heartbreak Prince\n",
      "\t8: Paper Rings\n",
      "\t9: Cornelia Street\n",
      "\t10: Death By A Thousand Cuts\n",
      "\t11: London Boy\n",
      "\t12: Soon You'll Get Better (feat. Dixie Chicks)\n",
      "\t13: False God\n",
      "\t14: You Need To Calm Down\n",
      "\t15: Afterglow\n",
      "\t16: Me! (feat. Brendon Urie of Panic! At The Disco)\n",
      "\t17: It's Nice To Have A Friend\n",
      "\t18: Daylight\n",
      "\t19: All Of The Girls You Loved Before\n",
      "Producer: Jack Antonoff, Joel Little, Taylor Swift, Frank Dukes, Louis Bell\n"
     ]
    }
   ],
   "source": [
    "# Print lover_album in more readable format\n",
    "\"\"\"\n",
    "for k,v in lover_album.items(): # iterate using a for loop for key and value\n",
    "    print(str(k) + \": \" + str(v))\n",
    "\"\"\"\n",
    "\n",
    "# Write your own code to print tracks in readable format\n",
    "# you can see that below; I also reformatted the other data\n",
    "\n",
    "for k, v in lover_album.items():\n",
    "    if type(v) == list or type(v) == set:\n",
    "        print(str(k).capitalize() + \": \", end=\"\")\n",
    "        print(\", \".join(v))\n",
    "    elif type(v) == dict:\n",
    "        print(str(k).capitalize() + \":\")\n",
    "        for num, track in v.items():\n",
    "            print(\"\\t\" + str(num) + \": \" + track)\n",
    "    else:\n",
    "        print(str(k).capitalize() + \": \" + str(v))"
   ]
  },
  {
   "cell_type": "code",
   "execution_count": 20,
   "metadata": {},
   "outputs": [
    {
     "name": "stdout",
     "output_type": "stream",
     "text": [
      "Genre: Pop, Synth-pop\n"
     ]
    }
   ],
   "source": [
    "# Using conditionals to retrieve a random song\n",
    "def search():\n",
    "    search = input(\"What would you like to know about the album?\")\n",
    "    if lover_album.get(search.lower()) == None:\n",
    "        print(\"Invalid Search\")\n",
    "    else:\n",
    "        print(lover_album.get(search.lower()))\n",
    "\n",
    "# This is a very basic code segment, how can you improve upon this code?\n",
    "# I think it could be improved upon by reformatting the output to be more readable\n",
    "# It would also be good to tell the user what their options are\n",
    "# I did all of this below\n",
    "\n",
    "def search(): #here is search but better\n",
    "    info = []\n",
    "    for k, v in lover_album.items():\n",
    "        info.append(k)\n",
    "    search = input(\"What would you like to know about the album? (Options: \" + \", \".join(info) + \")\")\n",
    "    if lover_album.get(search.lower()) == None:\n",
    "        print(\"Invalid Search\")\n",
    "    else:\n",
    "        data = lover_album.get(search.lower())\n",
    "        if type(data) == list or type(data) == set:\n",
    "            print(search.capitalize() + \": \", end=\"\")\n",
    "            print(\", \".join(data))\n",
    "        elif type(data) == dict:\n",
    "            print(search.capitalize() + \":\")\n",
    "            for num, track in data.items():\n",
    "                print(\"\\t\" + str(num) + \": \" + track)\n",
    "        else:\n",
    "            print(search.capitalize() + \": \" + str(data))\n",
    "\n",
    "search()"
   ]
  },
  {
   "attachments": {},
   "cell_type": "markdown",
   "metadata": {},
   "source": [
    "## Hacks\n",
    "\n",
    "### Hacks Completed Throughout the Lesson\n",
    "\n",
    "- Answer *ALL* questions in the code segments\n",
    "\n",
    "- Expand upon the code given to you, possible improvements in comments\n",
    "\n",
    "For each of the code segments with possible improvements, I went through and improved them. One way I did this was using the `.capitalize()` function to make the keys into grammatically-correct headings. I also improved the displays more comprehensively by reformatting the data displayed depending on the type of data using the `type()` function.\n",
    "\n",
    "- For Mr. Yeung's class: Justify your favorite Taylor Swift song, answer may effect seed\n",
    "\n",
    "My favorite song from Taylor Swift is I Knew You Were Trouble. It's my favorite song because I feel nostalgic every time I listen to it. I grew up listening to the radio a lot and that song would always pop up. I remember going to summer camp with my parents every morning and hearing the song play and the song helps me connect to my old memories. The song itself is very catchy, with meaningful lyrics that I can relate to. It's important to stay away from those who bring you down, and this song inspires me to do that. \n",
    "\n",
    "### Personal Hacks"
   ]
  },
  {
   "cell_type": "code",
   "execution_count": 2,
   "metadata": {},
   "outputs": [
    {
     "name": "stdout",
     "output_type": "stream",
     "text": [
      "{'title': 'Astroworld', 'artist': 'Travis Scott', 'year': 2018, 'genre': ['Rap'], 'tracks': {1: 'Stargazing', 2: 'Carousel', 3: 'Sicko Mode', 4: 'Rip Screw', 5: 'Stop Trying To Be God', 6: 'No Bystanders', 7: 'Skeletons', 8: 'Wake Up', 9: '5% Tint', 10: 'NC-17', 11: 'Astrothunder', 12: 'Yosemite', 13: \"Can't Say\", 14: 'Who? What!', 15: 'Butterfly Effect', 16: 'Houstonfornication', 17: 'Coffee Bean'}}\n"
     ]
    }
   ],
   "source": [
    "\n",
    "# Creating a dictionary with information about the album \"2021: The Mixtape\"\n",
    "album = {\n",
    "    \"title\": \"Astroworld\",\n",
    "    \"artist\": \"Travis Scott\",\n",
    "    \"year\": 2018,\n",
    "    \"genre\": [\"Rap\"],\n",
    "    \"tracks\": {\n",
    "        1: \"Stargazing\",\n",
    "        2: \"Carousel\",\n",
    "        3: \"Sicko Mode\",\n",
    "        4: \"Rip Screw\",\n",
    "        5: \"Stop Trying To Be God\",\n",
    "        6: \"No Bystanders\",\n",
    "        7: \"Skeletons\",\n",
    "        8: \"Wake Up\",\n",
    "        9: \"5% Tint\",\n",
    "        10: \"NC-17\",\n",
    "        11: \"Astrothunder\",\n",
    "        12: \"Yosemite\",\n",
    "        13: \"Can't Say\",\n",
    "        14: \"Who? What!\",\n",
    "        15: \"Butterfly Effect\",\n",
    "        16: \"Houstonfornication\",\n",
    "        17: \"Coffee Bean\",\n",
    "    }\n",
    "}\n",
    "\n",
    "# Printing the dictionary\n",
    "print(album)"
   ]
  },
  {
   "cell_type": "code",
   "execution_count": 4,
   "metadata": {},
   "outputs": [
    {
     "name": "stdout",
     "output_type": "stream",
     "text": [
      "Skeletons\n",
      "Skeletons\n"
     ]
    }
   ],
   "source": [
    "# Retrieve value from a dictionary inside a dictionary\n",
    "\n",
    "# get / index \n",
    "print(album.get('tracks')[7])\n",
    "\n",
    "# double indexing\n",
    "print(album['tracks'][7])"
   ]
  },
  {
   "cell_type": "code",
   "execution_count": 6,
   "metadata": {},
   "outputs": [],
   "source": [
    "\n",
    "# Updating the genre with Hip Hop\n",
    "\n",
    "album[\"genre\"].append(\"Hip Hop\")"
   ]
  },
  {
   "cell_type": "code",
   "execution_count": 11,
   "metadata": {},
   "outputs": [
    {
     "name": "stdout",
     "output_type": "stream",
     "text": [
      "Title: Astroworld\n",
      "Artist: Travis Scott\n",
      "Producer(s):\n",
      "Year: 2018\n",
      "Genres:\n",
      "- Rap\n",
      "- Pop\n",
      "- Hip Hop\n",
      "Tracks:\n",
      "1. Stargazing\n",
      "2. Carousel\n",
      "3. Sicko Mode\n",
      "4. Rip Screw\n",
      "5. Stop Trying To Be God\n",
      "6. No Bystanders\n",
      "7. Skeletons\n",
      "8. Wake Up\n",
      "9. 5% Tint\n",
      "10. NC-17\n",
      "11. Astrothunder\n",
      "12. Yosemite\n",
      "13. Can't Say\n",
      "14. Who? What!\n",
      "15. Butterfly Effect\n",
      "16. Houstonfornication\n",
      "17. Coffee Bean\n"
     ]
    }
   ],
   "source": [
    "# Pretty printing\n",
    "\n",
    "print(f\"Title: {album['title']}\")\n",
    "print(f\"Artist: {album['artist']}\")\n",
    "print('Producer(s):')\n",
    "print(f\"Year: {album['year']}\")\n",
    "print(\"Genres:\")\n",
    "for genre in album['genre']:\n",
    "    print(f\"- {genre}\")\n",
    "print(\"Tracks:\")\n",
    "for track_number, track_title in album['tracks'].items():\n",
    "    print(f\"{track_number}. {track_title}\")"
   ]
  },
  {
   "cell_type": "code",
   "execution_count": 12,
   "metadata": {},
   "outputs": [
    {
     "name": "stdout",
     "output_type": "stream",
     "text": [
      "\n",
      " Select an option from the list below:\n",
      "title\n",
      "artist\n",
      "year\n",
      "genre\n",
      "tracks\n",
      "\n",
      " Tracks:\n",
      "1) Stargazing\n",
      "2) Carousel\n",
      "3) Sicko Mode\n",
      "4) Rip Screw\n",
      "5) Stop Trying To Be God\n",
      "6) No Bystanders\n",
      "7) Skeletons\n",
      "8) Wake Up\n",
      "9) 5% Tint\n",
      "10) NC-17\n",
      "11) Astrothunder\n",
      "12) Yosemite\n",
      "13) Can't Say\n",
      "14) Who? What!\n",
      "15) Butterfly Effect\n",
      "16) Houstonfornication\n",
      "17) Coffee Bean\n",
      "\n",
      " Select an option from the list below:\n",
      "title\n",
      "artist\n",
      "year\n",
      "genre\n",
      "tracks\n"
     ]
    }
   ],
   "source": [
    "# Menu to find info about the album\n",
    "\n",
    "# Define the options as a list\n",
    "options = []\n",
    "\n",
    "for k,v in album.items(): # iterate using a for loop for key and value\n",
    "    options.append(str(k.lower()))\n",
    "\n",
    "# Define the menu function\n",
    "def menu():\n",
    "    # Display the menu options\n",
    "    print('\\n Select an option from the list below:')\n",
    "    for option in options:\n",
    "        print(option)\n",
    "\n",
    "    # Get the user's choice\n",
    "    search = input(\"What would you like to know about the album from the list of properties shown? Type the full word or press enter to exit.\").lower()\n",
    "\n",
    "    # Find the selected option in the options list\n",
    "    selected_option = None\n",
    "    for option in options:\n",
    "        if search == str(option):\n",
    "            selected_option = str(option)\n",
    "            break\n",
    "    \n",
    "\n",
    "    if selected_option == \"title\":\n",
    "        print(f'\\n Title: {album[options[0]]} \\n')\n",
    "    elif selected_option == \"artist\":\n",
    "        print(f'\\n Artist: {album[options[1]]} \\n')\n",
    "    elif selected_option == \"year\":\n",
    "        print(f'\\n Year: {album[options[2]]} \\n')\n",
    "    elif selected_option == \"genre\":\n",
    "        print(\"\\n Genre(s):\")\n",
    "        for g in album['genre']:\n",
    "            print(f\"- {g}\")\n",
    "    elif selected_option == \"tracks\":\n",
    "        print(\"\\n Tracks:\")\n",
    "        for track_number, track_title in album['tracks'].items():\n",
    "            print(f\"{track_number}) {track_title}\")\n",
    "    elif search == \"\":\n",
    "        return\n",
    "    else:\n",
    "        print(\"\\n Property not found. Please try again. \\n\")\n",
    "\n",
    "    # Repeat the menu\n",
    "    menu()\n",
    "\n",
    "menu()"
   ]
  }
 ],
 "metadata": {
  "kernelspec": {
   "display_name": "base",
   "language": "python",
   "name": "python3"
  },
  "language_info": {
   "codemirror_mode": {
    "name": "ipython",
    "version": 3
   },
   "file_extension": ".py",
   "mimetype": "text/x-python",
   "name": "python",
   "nbconvert_exporter": "python",
   "pygments_lexer": "ipython3",
   "version": "3.8.10"
  },
  "orig_nbformat": 4
 },
 "nbformat": 4,
 "nbformat_minor": 2
}
