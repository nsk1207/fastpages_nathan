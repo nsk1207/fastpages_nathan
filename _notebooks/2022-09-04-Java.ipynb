{
 "cells": [
  {
   "cell_type": "markdown",
   "metadata": {},
   "source": [
    "# Java\n",
    "- title: APCSP - Java\n",
    "- toc: true\n",
    "- categories: [week3,jupyter]\n",
    "- comments: true "
   ]
  },
  {
   "cell_type": "markdown",
   "metadata": {},
   "source": [
    "### console.log output\n",
    "Output to console using the classic programming introduction using a \"Hello, World!\" message.     \n",
    "- The command or function is <mark>console.log()</mark>\n",
    "- \"Hello, World\" is a String literal. This is the referred to as <mark>Static text</mark>, as it does not change.\n",
    "- \"Hello, World\" is a parameter to the console.log command.\n",
    "- The console.log <mark>command outputs the parameter to the console</mark>, so you can see it in this Jupyter document.\n",
    "- Note, in a Web Application, console.log is used for debugging and is not visible from the browser via HTML.  It is used behind the scenes, when using Inspect->Console from the browser.\n",
    "\n",
    "Printing hello world with java"
   ]
  },
  {
   "cell_type": "code",
   "execution_count": 1,
   "metadata": {},
   "outputs": [
    {
     "name": "stdout",
     "output_type": "stream",
     "text": [
      "Hello World\n"
     ]
    }
   ],
   "source": [
    "// Hello world\n",
    "console.log('Hello World');"
   ]
  }
 ],
 "metadata": {
  "kernelspec": {
   "display_name": "JavaScript (Node.js)",
   "language": "javascript",
   "name": "javascript"
  },
  "language_info": {
   "file_extension": ".js",
   "mimetype": "application/javascript",
   "name": "javascript",
   "version": "6.11.2"
  },
  "orig_nbformat": 4,
  "vscode": {
   "interpreter": {
    "hash": "4b7a7f0204cc1475276a45e72644ddcc58fc6f5909a231fae554435734ab0645"
   }
  }
 },
 "nbformat": 4,
 "nbformat_minor": 2
}
