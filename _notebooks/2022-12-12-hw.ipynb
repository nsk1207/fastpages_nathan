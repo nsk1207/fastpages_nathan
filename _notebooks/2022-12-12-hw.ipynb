{
 "cells": [
  {
   "attachments": {},
   "cell_type": "markdown",
   "metadata": {},
   "source": [
    "# Unit 3 Lesson 16, Student Copy\n",
    "- toc: true\n",
    "- comments: true\n",
    "- badges: true\n"
   ]
  },
  {
   "attachments": {},
   "cell_type": "markdown",
   "metadata": {},
   "source": [
    "### Hack #1 - Class Notes\n",
    "\n",
    "Basics / extra notes from lesson\n",
    "- Simulations are abstractions that mimic more compelx objects or phenomena from the real world \n",
    "- it is necessart to remove specific details (example, the temperature of the sun on a certain day)\n",
    "- simulations allow the formulation of hypothesis under consideration \n",
    "- examples: rolling dice, spinners, molecular models, analyze chemical/reactions\n",
    "- We can use the python random module to run various simulations in our programs. For instance, random number generators could be used to simulate different probabilities and such\n",
    "- more examples include missle launchers and chemical reactions\n"
   ]
  },
  {
   "attachments": {},
   "cell_type": "markdown",
   "metadata": {},
   "source": [
    "This is copied from their fastpages about some basic commands often needed when creating simulations"
   ]
  },
  {
   "cell_type": "code",
   "execution_count": null,
   "metadata": {
    "vscode": {
     "languageId": "shellscript"
    }
   },
   "outputs": [],
   "source": [
    "import random # a module that defines a series of functions for generating or manipulating random integers\n",
    "random.choice() #returns a randomly selected element from the specified sequence\n",
    "random.choice(mylist) # returns random value from list\n",
    "random.randint(0,10) #randomly selects an integer from given range; range in this case is from 0 to 10\n",
    "random.random() #will generate a random float between 0.0 to 1."
   ]
  },
  {
   "cell_type": "code",
   "execution_count": 1,
   "metadata": {},
   "outputs": [
    {
     "name": "stdout",
     "output_type": "stream",
     "text": [
      "80\n"
     ]
    }
   ],
   "source": [
    "from random import *\n",
    "x = randint(1, 100) \n",
    "print(x)"
   ]
  },
  {
   "cell_type": "code",
   "execution_count": 1,
   "metadata": {
    "vscode": {
     "languageId": "shellscript"
    }
   },
   "outputs": [],
   "source": [
    "def mycloset():\n",
    "    myclothes = [\"red shoes\", \"green pants\", \"tie\", \"belt\"]"
   ]
  },
  {
   "attachments": {},
   "cell_type": "markdown",
   "metadata": {},
   "source": [
    "MC answer: 3 "
   ]
  },
  {
   "attachments": {},
   "cell_type": "markdown",
   "metadata": {},
   "source": [
    "### Hack #2 - Functions Classwork"
   ]
  },
  {
   "cell_type": "code",
   "execution_count": 43,
   "metadata": {
    "vscode": {
     "languageId": "shellscript"
    }
   },
   "outputs": [
    {
     "name": "stdout",
     "output_type": "stream",
     "text": [
      "Tails\n",
      "Heads\n",
      "Heads\n",
      "Heads\n",
      "Heads\n"
     ]
    }
   ],
   "source": [
    "# insert your work with randomization/ functions and the mycloset code here # Hint: Use the functions we talked about in the beginning!\n",
    "\n",
    "\n",
    "import random\n",
    "\n",
    "def coinflip():         #def function \n",
    "    randomflip = random.randint(1, 3) #picks either 0 or 1 randomly (50/50 chance of either) \n",
    "    if randomflip > 1: #assigning 0 to be heads--> if 0 is chosen then it will print, \"Heads\"\n",
    "        print(\"Heads\")\n",
    "    else:\n",
    "         print(\"Tails\")\n",
    "\n",
    "#Tossing the coin 5 times:\n",
    "t1 = coinflip()\n",
    "t2 = coinflip()\n",
    "t3 = coinflip()\n",
    "t4 = coinflip()\n",
    "t5 = coinflip()"
   ]
  },
  {
   "cell_type": "markdown",
   "metadata": {},
   "source": [
    "### Hack #3 - Binary Simulation Problem"
   ]
  },
  {
   "cell_type": "code",
   "execution_count": 12,
   "metadata": {
    "vscode": {
     "languageId": "shellscript"
    }
   },
   "outputs": [
    {
     "name": "stdout",
     "output_type": "stream",
     "text": [
      "These people survived: \n",
      "Ananya\n",
      "Tom Holland\n"
     ]
    }
   ],
   "source": [
    "# insert your zombie simulation here; you don't have to use this template but it will help you get started\n",
    "from random import randint\n",
    "\n",
    "def randomnum(): # function for generating random int\n",
    "    return randint(0,255)\n",
    "\n",
    "def converttobin(n): # function for converting decimal to binary\n",
    "    x = n\n",
    "    N = 7\n",
    "    res = []\n",
    "    while N >= 0:\n",
    "        if (x - 2 ** N) >= 0:\n",
    "            res.append(1)\n",
    "            x-=2 ** N\n",
    "            N-=1\n",
    "        else:\n",
    "            res.append(0)\n",
    "            N-=1\n",
    "    return res\n",
    "\n",
    "def survivors(): # function to assign position\n",
    "    survivorstatus = [\"Jiya\", \"Shruthi\", \"Noor\", \"Ananya\" , \"Peter Parker\", \"Andrew Garfield\", \"Tom Holland\", \"Tobey Maguire\"]\n",
    "    chances = converttobin(randomnum())\n",
    "    return [survivorstatus[i] for i in range(8) if chances[i] == 1]\n",
    "\n",
    "def printsurvivors(survivors):\n",
    "    print(\"These people survived: \")\n",
    "    for i in survivors:\n",
    "        print(format(i))\n",
    "\n",
    "    # replace the names above with your choice of people in the house\n",
    "\n",
    "survivor_list = survivors()\n",
    "printsurvivors(survivor_list)"
   ]
  },
  {
   "cell_type": "markdown",
   "metadata": {},
   "source": [
    "### Hack #4 - Thinking through a problem\n",
    "- create your own simulation involving a dice roll\n",
    "- should include randomization and a function for rolling + multiple trials"
   ]
  },
  {
   "cell_type": "code",
   "execution_count": 47,
   "metadata": {
    "vscode": {
     "languageId": "shellscript"
    }
   },
   "outputs": [
    {
     "name": "stdout",
     "output_type": "stream",
     "text": [
      "You rolled 3\n",
      "Want to roll again? Y/N\n"
     ]
    }
   ],
   "source": [
    "import random # you can run this code multiple times with different outputs each time\n",
    "repeat = True\n",
    "while repeat:\n",
    "    print(\"You rolled\",random.randint(1,6))\n",
    "    print(\"Want to roll again? Y/N\")\n",
    "    repeat = \"Y\" in input()"
   ]
  },
  {
   "attachments": {},
   "cell_type": "markdown",
   "metadata": {},
   "source": [
    "### Hack 5 - Applying your knowledge to situation based problems\n",
    "\n",
    "Using the questions bank below, create a quiz that presents the user a random question and calculates the user's score. You can use the template below or make your own. Making your own using a loop can give you extra points. "
   ]
  },
  {
   "attachments": {},
   "cell_type": "markdown",
   "metadata": {},
   "source": [
    "1. A researcher gathers data about the effect of Advanced Placement®︎ classes on students' success in college and career, and develops a simulation to show how a sequence of AP classes affect a hypothetical student's pathway.Several school administrators are concerned that the simulation contains bias favoring high-income students, however.\n",
    "    - answer options:\n",
    "        1. The simulation is an abstraction and therefore cannot contain any bias\n",
    "        2. The simulation may accidentally contain bias due to the exclusion of details.\n",
    "        3. If the simulation is found to contain bias, then it is not possible to remove the bias from the simulation.\n",
    "        4. The only way for the simulation to be biased is if the researcher intentionally used data that favored their desired output.\n",
    "2. Jack is trying to plan his financial future using an online tool. The tool starts off by asking him to input details about his current finances and career. It then lets him choose different future scenarios, such as having children. For each scenario chosen, the tool does some calculations and outputs his projected savings at the ages of 35, 45, and 55.Would that be considered a simulation and why?\n",
    "    - answer options\n",
    "        1. No, it's not a simulation because it does not include a visualization of the results.\n",
    "        2. No, it's not a simulation because it does not include all the details of his life history and the future financial environment.\n",
    "        3. Yes, it's a simulation because it runs on a computer and includes both user input and computed output.\n",
    "        4. Yes, it's a simulation because it is an abstraction of a real world scenario that enables the drawing of inferences.\n",
    "3. Sylvia is an industrial engineer working for a sporting goods company. She is developing a baseball bat that can hit balls with higher accuracy and asks their software engineering team to develop a simulation to verify the design.Which of the following details is most important to include in this simulation?\n",
    "    - answer options\n",
    "        1. Realistic sound effects based on the material of the baseball bat and the velocity of the hit\n",
    "        2. A depiction of an audience in the stands with lifelike behavior in response to hit accuracy\n",
    "        3. Accurate accounting for the effects of wind conditions on the movement of the ball\n",
    "        4. A baseball field that is textured to differentiate between the grass and the dirt\n",
    "4. Ashlynn is an industrial engineer who is trying to design a safer parachute. She creates a computer simulation of the parachute opening at different heights and in different environmental conditions.What are advantages of running the simulation versus an actual experiment?\n",
    "    - answer options\n",
    "        1. The simulation will not contain any bias that favors one body type over another, while an experiment will be biased.\n",
    "        2. The simulation can be run more safely than an actual experiment\n",
    "        3. The simulation will accurately predict the parachute's safety level, while an experiment may be inaccurate due to faulty experimental design.\n",
    "        4. The simulation can test the parachute design in a wide range of environmental conditions that may be difficult to reliably reproduce in an experiment.\n",
    "    * this question has 2 correct answers\n",
    "5. YOUR OWN QUESTION; can be situational, pseudo code based, or vocab/concept based\n",
    "6. YOUR OWN QUESTION; can be situational, pseudo code based, or vocab/concept based"
   ]
  },
  {
   "cell_type": "code",
   "execution_count": 2,
   "metadata": {
    "vscode": {
     "languageId": "shellscript"
    }
   },
   "outputs": [
    {
     "name": "stdout",
     "output_type": "stream",
     "text": [
      "Good job, you are correct\n",
      "Good job, you are correct\n",
      "Good job, you are correct\n",
      "Good job, you are correct\n",
      "Good job, you are correct\n",
      "Good job, you are correct\n",
      "You scored 6/6, which is 100.0%\n"
     ]
    }
   ],
   "source": [
    "questions = 6\n",
    "correct = 0\n",
    "\n",
    "\n",
    "question = {\n",
    "    \"A researcher gathers data about the effect of Advanced Placement classes on students' success in college and career, and develops a simulation to show how a sequence of AP classes affect a hypothetical student's pathway.Several school administrators are concerned that the simulation contains bias favoring high-income students, however. a) The simulation is an abstraction and therefore cannot contain any bias b) The simulation may accidentally contain bias due to the exclusion of details c) If the simulation is found to contain bias, then it is not possible to remove the bias from the simulation d) The only way for the simulation to be biased is if the researcher intentionally used data that favored their desired output\": \"b\",\n",
    "    \"Jack is trying to plan his financial future using an online tool. The tool starts off by asking him to input details about his current finances and career. It then lets him choose different future scenarios, such as having children. For each scenario chosen, the tool does some calculations and outputs his projected savings at the ages of 35, 45, and 55.Would that be considered a simulation and why? a) No, it's not a simulation because it does not include a visualization of the results. b) No, it's not a simulation because it does not include all the details of his life history and the future financial environment c) Yes, it's a simulation because it runs on a computer and includes both user input and computed output. d) Yes, it's a simulation because it is an abstraction of a real world scenario that enables the drawing of inferences.\": \"c\",\n",
    "    \"Sylvia is an industrial engineer working for a sporting goods company. She is developing a baseball bat that can hit balls with higher accuracy and asks their software engineering team to develop a simulation to verify the design.Which of the following details is most important to include in this simulation? a) Realistic sound effects based on the material of the baseball bat and the velocity of the hit b) A depiction of an audience in the stands with lifelike behavior in response to hit accuracy c) Accurate accounting for the effects of wind conditions on the movement of the ball d) A baseball field that is textured to differentiate between the grass and the dirt\": \"c\",\n",
    "    \"Ashlynn is an industrial engineer who is trying to design a safer parachute. She creates a computer simulation of the parachute opening at different heights and in different environmental conditions.What are advantages of running the simulation versus an actual experiment? a) The simulation will not contain any bias that favors one body type over another, while an experiment will be biased b) The simulation can be run more safely than an actual experiment c) The simulation will accurately predict the parachute's safety level, while an experiment may be inaccurate due to faulty experimental design d) The simulation can't test the parachute design in a wide range of environmental conditions that may be difficult to reliably reproduce in an experiment\": \"b\",\n",
    "    \"Which of the following ways can we best simulate a random dice roll? a) Simulation b) Loops c) Strings d) Nested Conditionals\": \"a\",\n",
    "    \"What module in python could be used to generate random values in simulations?, a) Random b) False c) Tensorflow d) Turtle\": \"a\",\n",
    "}\n",
    "\n",
    "def qna(question, answer):\n",
    "    answer = input(question + ' :pick a, b, c, or d')\n",
    "    if answer == answer:\n",
    "        print('Good job, you are correct')\n",
    "        return 1\n",
    "    else:\n",
    "        print('Better luck next time, you are wrong')\n",
    "        return 0\n",
    "\n",
    "for i in question:\n",
    "    y = qna(i, question[i])\n",
    "    correct = correct + y\n",
    "\n",
    "print(\"You scored \" + str(correct) +\"/\" + str(questions) + \", which is \" + str((correct / questions) * 100) + \"%\")"
   ]
  },
  {
   "attachments": {},
   "cell_type": "markdown",
   "metadata": {},
   "source": [
    "### Hack #6 / Challenge - Taking real life problems and implementing them into code"
   ]
  },
  {
   "attachments": {},
   "cell_type": "markdown",
   "metadata": {},
   "source": [
    "Create your own simulation based on your experiences/knowledge!\n",
    "Be creative! Think about instances in your own life, science, puzzles that can be made into simulations\n",
    "\n",
    "Some ideas to get your brain running: A simulation that breeds two plants and tells you phenotypes of offspring, an adventure simulation..."
   ]
  },
  {
   "cell_type": "code",
   "execution_count": 22,
   "metadata": {
    "vscode": {
     "languageId": "shellscript"
    }
   },
   "outputs": [
    {
     "name": "stderr",
     "output_type": "stream",
     "text": [
      "<>:29: SyntaxWarning: \"is\" with a literal. Did you mean \"==\"?\n",
      "<>:29: SyntaxWarning: \"is\" with a literal. Did you mean \"==\"?\n",
      "/tmp/ipykernel_436/2394116528.py:29: SyntaxWarning: \"is\" with a literal. Did you mean \"==\"?\n",
      "  if flag is 1:\n"
     ]
    },
    {
     "name": "stdout",
     "output_type": "stream",
     "text": [
      "Wrong Guess!!\n",
      "Wrong Guess!!\n",
      "Wrong Guess!!\n",
      "Sorry, You Lost!\n"
     ]
    }
   ],
   "source": [
    "from random import randint\n",
    " \n",
    "# Function which generates a new random number everytime it executes\n",
    "def generator():\n",
    "    return randint(1, 10)\n",
    "     \n",
    "# Function takes user input and returns\n",
    "def rand_guess():\n",
    "    # calls generator() which returns random integer between 1 and 10\n",
    "    random_number = generator()\n",
    "    # defining the number of guesses the user gets\n",
    "    guess_left = 3\n",
    "    # Setting a flag variable\n",
    "    flag = 0\n",
    "    # looping the number of times the user gets chances\n",
    "    while guess_left > 0:\n",
    "        # Taking a input from the user\n",
    "        guess = int(input(\"Pick your number to \"\n",
    "                      \"enter the lucky draw\\n\"))\n",
    "        # checking whether user's gues matches the win-condition\n",
    "        if guess == random_number:\n",
    "            # setting flag as 1 if user guesses correctly and then loop is broken\n",
    "            flag = 1\n",
    "            break\n",
    "        else:\n",
    "            # if user's choice doesn't match win-condition then it is printed\n",
    "            print(\"Wrong Guess!!\")\n",
    "        guess_left -= 1\n",
    "    if flag is 1:\n",
    "        return True\n",
    "    else:\n",
    "        return False\n",
    "\n",
    "if __name__ == '__main__': # driver code\n",
    "    if rand_guess() is True:\n",
    "        print(\"Congrats!! You Win.\")\n",
    "    else :\n",
    "        print(\"Sorry, You Lost!\")"
   ]
  }
 ],
 "metadata": {
  "kernelspec": {
   "display_name": "Python 3",
   "language": "python",
   "name": "python3"
  },
  "language_info": {
   "codemirror_mode": {
    "name": "ipython",
    "version": 3
   },
   "file_extension": ".py",
   "mimetype": "text/x-python",
   "name": "python",
   "nbconvert_exporter": "python",
   "pygments_lexer": "ipython3",
   "version": "3.8.10"
  },
  "orig_nbformat": 4,
  "vscode": {
   "interpreter": {
    "hash": "31f2aee4e71d21fbe5cf8b01ff0e069b9275f58929596ceb00d14d90e3e16cd6"
   }
  }
 },
 "nbformat": 4,
 "nbformat_minor": 2
}
